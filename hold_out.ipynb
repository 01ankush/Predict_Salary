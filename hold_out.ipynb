{
 "cells": [
  {
   "cell_type": "code",
   "execution_count": 110,
   "id": "983c3165",
   "metadata": {},
   "outputs": [],
   "source": [
    "#IMPORTING LIBRARIES\n",
    "import pandas as pd\n",
    "import matplotlib.pyplot as plt\n",
    "import seaborn as sns\n",
    "import numpy as np"
   ]
  },
  {
   "cell_type": "code",
   "execution_count": 111,
   "id": "95992545",
   "metadata": {},
   "outputs": [],
   "source": [
    "train = pd.read_excel(\"Salary.xlsx\")"
   ]
  },
  {
   "cell_type": "code",
   "execution_count": 112,
   "id": "a38d84f4",
   "metadata": {},
   "outputs": [
    {
     "data": {
      "text/html": [
       "<div>\n",
       "<style scoped>\n",
       "    .dataframe tbody tr th:only-of-type {\n",
       "        vertical-align: middle;\n",
       "    }\n",
       "\n",
       "    .dataframe tbody tr th {\n",
       "        vertical-align: top;\n",
       "    }\n",
       "\n",
       "    .dataframe thead th {\n",
       "        text-align: right;\n",
       "    }\n",
       "</style>\n",
       "<table border=\"1\" class=\"dataframe\">\n",
       "  <thead>\n",
       "    <tr style=\"text-align: right;\">\n",
       "      <th></th>\n",
       "      <th>Age</th>\n",
       "      <th>Education</th>\n",
       "      <th>Education Yrs</th>\n",
       "      <th>Marital Status</th>\n",
       "      <th>Employer</th>\n",
       "      <th>Occupation</th>\n",
       "      <th>Relationship Status</th>\n",
       "      <th>Sex</th>\n",
       "      <th>Capital Gain</th>\n",
       "      <th>Capital Loss</th>\n",
       "      <th>Hours per Week</th>\n",
       "      <th>Native Country</th>\n",
       "      <th>Salary</th>\n",
       "    </tr>\n",
       "  </thead>\n",
       "  <tbody>\n",
       "    <tr>\n",
       "      <th>0</th>\n",
       "      <td>39</td>\n",
       "      <td>Bachelors</td>\n",
       "      <td>13</td>\n",
       "      <td>Never-married</td>\n",
       "      <td>State-gov</td>\n",
       "      <td>Adm-clerical</td>\n",
       "      <td>Not-in-family</td>\n",
       "      <td>Male</td>\n",
       "      <td>2174</td>\n",
       "      <td>0</td>\n",
       "      <td>40</td>\n",
       "      <td>United-States</td>\n",
       "      <td>77516</td>\n",
       "    </tr>\n",
       "    <tr>\n",
       "      <th>1</th>\n",
       "      <td>50</td>\n",
       "      <td>Bachelors</td>\n",
       "      <td>13</td>\n",
       "      <td>Married-civ-spouse</td>\n",
       "      <td>Self-emp-not-inc</td>\n",
       "      <td>Exec-managerial</td>\n",
       "      <td>Husband</td>\n",
       "      <td>Male</td>\n",
       "      <td>0</td>\n",
       "      <td>0</td>\n",
       "      <td>13</td>\n",
       "      <td>United-States</td>\n",
       "      <td>83311</td>\n",
       "    </tr>\n",
       "    <tr>\n",
       "      <th>2</th>\n",
       "      <td>38</td>\n",
       "      <td>HS-grad</td>\n",
       "      <td>9</td>\n",
       "      <td>Divorced</td>\n",
       "      <td>Private</td>\n",
       "      <td>Handlers-cleaners</td>\n",
       "      <td>Not-in-family</td>\n",
       "      <td>Male</td>\n",
       "      <td>0</td>\n",
       "      <td>0</td>\n",
       "      <td>40</td>\n",
       "      <td>United-States</td>\n",
       "      <td>215646</td>\n",
       "    </tr>\n",
       "    <tr>\n",
       "      <th>3</th>\n",
       "      <td>53</td>\n",
       "      <td>11th</td>\n",
       "      <td>7</td>\n",
       "      <td>Married-civ-spouse</td>\n",
       "      <td>Private</td>\n",
       "      <td>Handlers-cleaners</td>\n",
       "      <td>Husband</td>\n",
       "      <td>Male</td>\n",
       "      <td>0</td>\n",
       "      <td>0</td>\n",
       "      <td>40</td>\n",
       "      <td>United-States</td>\n",
       "      <td>234721</td>\n",
       "    </tr>\n",
       "    <tr>\n",
       "      <th>4</th>\n",
       "      <td>28</td>\n",
       "      <td>Bachelors</td>\n",
       "      <td>13</td>\n",
       "      <td>Married-civ-spouse</td>\n",
       "      <td>Private</td>\n",
       "      <td>Prof-specialty</td>\n",
       "      <td>Wife</td>\n",
       "      <td>Female</td>\n",
       "      <td>0</td>\n",
       "      <td>0</td>\n",
       "      <td>40</td>\n",
       "      <td>Cuba</td>\n",
       "      <td>338409</td>\n",
       "    </tr>\n",
       "  </tbody>\n",
       "</table>\n",
       "</div>"
      ],
      "text/plain": [
       "   Age   Education  Education Yrs       Marital Status           Employer  \\\n",
       "0   39   Bachelors             13        Never-married          State-gov   \n",
       "1   50   Bachelors             13   Married-civ-spouse   Self-emp-not-inc   \n",
       "2   38     HS-grad              9             Divorced            Private   \n",
       "3   53        11th              7   Married-civ-spouse            Private   \n",
       "4   28   Bachelors             13   Married-civ-spouse            Private   \n",
       "\n",
       "           Occupation Relationship Status      Sex  Capital Gain  \\\n",
       "0        Adm-clerical       Not-in-family     Male          2174   \n",
       "1     Exec-managerial             Husband     Male             0   \n",
       "2   Handlers-cleaners       Not-in-family     Male             0   \n",
       "3   Handlers-cleaners             Husband     Male             0   \n",
       "4      Prof-specialty                Wife   Female             0   \n",
       "\n",
       "   Capital Loss  Hours per Week  Native Country  Salary  \n",
       "0             0              40   United-States   77516  \n",
       "1             0              13   United-States   83311  \n",
       "2             0              40   United-States  215646  \n",
       "3             0              40   United-States  234721  \n",
       "4             0              40            Cuba  338409  "
      ]
     },
     "execution_count": 112,
     "metadata": {},
     "output_type": "execute_result"
    }
   ],
   "source": [
    "train.head()"
   ]
  },
  {
   "cell_type": "code",
   "execution_count": 113,
   "id": "3ae598d7",
   "metadata": {},
   "outputs": [],
   "source": [
    "test = pd.read_excel(\"Hold_out.xlsx\")"
   ]
  },
  {
   "cell_type": "code",
   "execution_count": 114,
   "id": "e367ca7e",
   "metadata": {},
   "outputs": [
    {
     "data": {
      "text/html": [
       "<div>\n",
       "<style scoped>\n",
       "    .dataframe tbody tr th:only-of-type {\n",
       "        vertical-align: middle;\n",
       "    }\n",
       "\n",
       "    .dataframe tbody tr th {\n",
       "        vertical-align: top;\n",
       "    }\n",
       "\n",
       "    .dataframe thead th {\n",
       "        text-align: right;\n",
       "    }\n",
       "</style>\n",
       "<table border=\"1\" class=\"dataframe\">\n",
       "  <thead>\n",
       "    <tr style=\"text-align: right;\">\n",
       "      <th></th>\n",
       "      <th>Age</th>\n",
       "      <th>Education</th>\n",
       "      <th>Education Yrs</th>\n",
       "      <th>Marital Status</th>\n",
       "      <th>Employer</th>\n",
       "      <th>Occupation</th>\n",
       "      <th>Relationship Status</th>\n",
       "      <th>Sex</th>\n",
       "      <th>Capital Gain</th>\n",
       "      <th>Capital Loss</th>\n",
       "      <th>Hours per Week</th>\n",
       "      <th>Native Country</th>\n",
       "    </tr>\n",
       "  </thead>\n",
       "  <tbody>\n",
       "    <tr>\n",
       "      <th>0</th>\n",
       "      <td>37</td>\n",
       "      <td>HS-grad</td>\n",
       "      <td>9</td>\n",
       "      <td>Divorced</td>\n",
       "      <td>Private</td>\n",
       "      <td>Craft-repair</td>\n",
       "      <td>Not-in-family</td>\n",
       "      <td>Male</td>\n",
       "      <td>0</td>\n",
       "      <td>0</td>\n",
       "      <td>49</td>\n",
       "      <td>United-States</td>\n",
       "    </tr>\n",
       "    <tr>\n",
       "      <th>1</th>\n",
       "      <td>19</td>\n",
       "      <td>HS-grad</td>\n",
       "      <td>9</td>\n",
       "      <td>Never-married</td>\n",
       "      <td>Private</td>\n",
       "      <td>Adm-clerical</td>\n",
       "      <td>Own-child</td>\n",
       "      <td>Female</td>\n",
       "      <td>0</td>\n",
       "      <td>0</td>\n",
       "      <td>16</td>\n",
       "      <td>United-States</td>\n",
       "    </tr>\n",
       "    <tr>\n",
       "      <th>2</th>\n",
       "      <td>59</td>\n",
       "      <td>HS-grad</td>\n",
       "      <td>9</td>\n",
       "      <td>Married-civ-spouse</td>\n",
       "      <td>Self-emp-not-inc</td>\n",
       "      <td>Exec-managerial</td>\n",
       "      <td>Husband</td>\n",
       "      <td>Male</td>\n",
       "      <td>0</td>\n",
       "      <td>0</td>\n",
       "      <td>40</td>\n",
       "      <td>United-States</td>\n",
       "    </tr>\n",
       "    <tr>\n",
       "      <th>3</th>\n",
       "      <td>50</td>\n",
       "      <td>Some-college</td>\n",
       "      <td>10</td>\n",
       "      <td>Married-civ-spouse</td>\n",
       "      <td>Federal-gov</td>\n",
       "      <td>Adm-clerical</td>\n",
       "      <td>Husband</td>\n",
       "      <td>Male</td>\n",
       "      <td>0</td>\n",
       "      <td>0</td>\n",
       "      <td>40</td>\n",
       "      <td>United-States</td>\n",
       "    </tr>\n",
       "    <tr>\n",
       "      <th>4</th>\n",
       "      <td>33</td>\n",
       "      <td>Bachelors</td>\n",
       "      <td>13</td>\n",
       "      <td>Married-civ-spouse</td>\n",
       "      <td>Private</td>\n",
       "      <td>Exec-managerial</td>\n",
       "      <td>Husband</td>\n",
       "      <td>Male</td>\n",
       "      <td>0</td>\n",
       "      <td>0</td>\n",
       "      <td>50</td>\n",
       "      <td>United-States</td>\n",
       "    </tr>\n",
       "  </tbody>\n",
       "</table>\n",
       "</div>"
      ],
      "text/plain": [
       "   Age      Education  Education Yrs       Marital Status           Employer  \\\n",
       "0   37        HS-grad              9             Divorced            Private   \n",
       "1   19        HS-grad              9        Never-married            Private   \n",
       "2   59        HS-grad              9   Married-civ-spouse   Self-emp-not-inc   \n",
       "3   50   Some-college             10   Married-civ-spouse        Federal-gov   \n",
       "4   33      Bachelors             13   Married-civ-spouse            Private   \n",
       "\n",
       "         Occupation Relationship Status      Sex  Capital Gain  Capital Loss  \\\n",
       "0      Craft-repair       Not-in-family     Male             0             0   \n",
       "1      Adm-clerical           Own-child   Female             0             0   \n",
       "2   Exec-managerial             Husband     Male             0             0   \n",
       "3      Adm-clerical             Husband     Male             0             0   \n",
       "4   Exec-managerial             Husband     Male             0             0   \n",
       "\n",
       "   Hours per Week  Native Country  \n",
       "0              49   United-States  \n",
       "1              16   United-States  \n",
       "2              40   United-States  \n",
       "3              40   United-States  \n",
       "4              50   United-States  "
      ]
     },
     "execution_count": 114,
     "metadata": {},
     "output_type": "execute_result"
    }
   ],
   "source": [
    "test.head()"
   ]
  },
  {
   "cell_type": "code",
   "execution_count": 115,
   "id": "220bbe91",
   "metadata": {},
   "outputs": [],
   "source": [
    "train_len = len(train)\n",
    "test_len = len(test)"
   ]
  },
  {
   "cell_type": "code",
   "execution_count": 116,
   "id": "eb59bb07",
   "metadata": {},
   "outputs": [
    {
     "data": {
      "text/html": [
       "<div>\n",
       "<style scoped>\n",
       "    .dataframe tbody tr th:only-of-type {\n",
       "        vertical-align: middle;\n",
       "    }\n",
       "\n",
       "    .dataframe tbody tr th {\n",
       "        vertical-align: top;\n",
       "    }\n",
       "\n",
       "    .dataframe thead th {\n",
       "        text-align: right;\n",
       "    }\n",
       "</style>\n",
       "<table border=\"1\" class=\"dataframe\">\n",
       "  <thead>\n",
       "    <tr style=\"text-align: right;\">\n",
       "      <th></th>\n",
       "      <th>Age</th>\n",
       "      <th>Education</th>\n",
       "      <th>Education Yrs</th>\n",
       "      <th>Marital Status</th>\n",
       "      <th>Employer</th>\n",
       "      <th>Occupation</th>\n",
       "      <th>Relationship Status</th>\n",
       "      <th>Sex</th>\n",
       "      <th>Capital Gain</th>\n",
       "      <th>Capital Loss</th>\n",
       "      <th>Hours per Week</th>\n",
       "      <th>Native Country</th>\n",
       "      <th>Salary</th>\n",
       "    </tr>\n",
       "  </thead>\n",
       "  <tbody>\n",
       "    <tr>\n",
       "      <th>0</th>\n",
       "      <td>39</td>\n",
       "      <td>Bachelors</td>\n",
       "      <td>13</td>\n",
       "      <td>Never-married</td>\n",
       "      <td>State-gov</td>\n",
       "      <td>Adm-clerical</td>\n",
       "      <td>Not-in-family</td>\n",
       "      <td>Male</td>\n",
       "      <td>2174</td>\n",
       "      <td>0</td>\n",
       "      <td>40</td>\n",
       "      <td>United-States</td>\n",
       "      <td>77516.0</td>\n",
       "    </tr>\n",
       "    <tr>\n",
       "      <th>1</th>\n",
       "      <td>50</td>\n",
       "      <td>Bachelors</td>\n",
       "      <td>13</td>\n",
       "      <td>Married-civ-spouse</td>\n",
       "      <td>Self-emp-not-inc</td>\n",
       "      <td>Exec-managerial</td>\n",
       "      <td>Husband</td>\n",
       "      <td>Male</td>\n",
       "      <td>0</td>\n",
       "      <td>0</td>\n",
       "      <td>13</td>\n",
       "      <td>United-States</td>\n",
       "      <td>83311.0</td>\n",
       "    </tr>\n",
       "    <tr>\n",
       "      <th>2</th>\n",
       "      <td>38</td>\n",
       "      <td>HS-grad</td>\n",
       "      <td>9</td>\n",
       "      <td>Divorced</td>\n",
       "      <td>Private</td>\n",
       "      <td>Handlers-cleaners</td>\n",
       "      <td>Not-in-family</td>\n",
       "      <td>Male</td>\n",
       "      <td>0</td>\n",
       "      <td>0</td>\n",
       "      <td>40</td>\n",
       "      <td>United-States</td>\n",
       "      <td>215646.0</td>\n",
       "    </tr>\n",
       "    <tr>\n",
       "      <th>3</th>\n",
       "      <td>53</td>\n",
       "      <td>11th</td>\n",
       "      <td>7</td>\n",
       "      <td>Married-civ-spouse</td>\n",
       "      <td>Private</td>\n",
       "      <td>Handlers-cleaners</td>\n",
       "      <td>Husband</td>\n",
       "      <td>Male</td>\n",
       "      <td>0</td>\n",
       "      <td>0</td>\n",
       "      <td>40</td>\n",
       "      <td>United-States</td>\n",
       "      <td>234721.0</td>\n",
       "    </tr>\n",
       "    <tr>\n",
       "      <th>4</th>\n",
       "      <td>28</td>\n",
       "      <td>Bachelors</td>\n",
       "      <td>13</td>\n",
       "      <td>Married-civ-spouse</td>\n",
       "      <td>Private</td>\n",
       "      <td>Prof-specialty</td>\n",
       "      <td>Wife</td>\n",
       "      <td>Female</td>\n",
       "      <td>0</td>\n",
       "      <td>0</td>\n",
       "      <td>40</td>\n",
       "      <td>Cuba</td>\n",
       "      <td>338409.0</td>\n",
       "    </tr>\n",
       "  </tbody>\n",
       "</table>\n",
       "</div>"
      ],
      "text/plain": [
       "   Age   Education  Education Yrs       Marital Status           Employer  \\\n",
       "0   39   Bachelors             13        Never-married          State-gov   \n",
       "1   50   Bachelors             13   Married-civ-spouse   Self-emp-not-inc   \n",
       "2   38     HS-grad              9             Divorced            Private   \n",
       "3   53        11th              7   Married-civ-spouse            Private   \n",
       "4   28   Bachelors             13   Married-civ-spouse            Private   \n",
       "\n",
       "           Occupation Relationship Status      Sex  Capital Gain  \\\n",
       "0        Adm-clerical       Not-in-family     Male          2174   \n",
       "1     Exec-managerial             Husband     Male             0   \n",
       "2   Handlers-cleaners       Not-in-family     Male             0   \n",
       "3   Handlers-cleaners             Husband     Male             0   \n",
       "4      Prof-specialty                Wife   Female             0   \n",
       "\n",
       "   Capital Loss  Hours per Week  Native Country    Salary  \n",
       "0             0              40   United-States   77516.0  \n",
       "1             0              13   United-States   83311.0  \n",
       "2             0              40   United-States  215646.0  \n",
       "3             0              40   United-States  234721.0  \n",
       "4             0              40            Cuba  338409.0  "
      ]
     },
     "execution_count": 116,
     "metadata": {},
     "output_type": "execute_result"
    }
   ],
   "source": [
    "data = pd.concat([train,test],axis = 0)\n",
    "data.reset_index(drop=True,inplace=True)\n",
    "data.head()"
   ]
  },
  {
   "cell_type": "code",
   "execution_count": null,
   "id": "443e4e79",
   "metadata": {},
   "outputs": [],
   "source": []
  },
  {
   "cell_type": "code",
   "execution_count": 117,
   "id": "77e52479",
   "metadata": {},
   "outputs": [
    {
     "name": "stdout",
     "output_type": "stream",
     "text": [
      "25999 6562 32561\n"
     ]
    }
   ],
   "source": [
    "print(len(train),len(test),len(data))"
   ]
  },
  {
   "cell_type": "code",
   "execution_count": null,
   "id": "629661a8",
   "metadata": {},
   "outputs": [],
   "source": []
  },
  {
   "cell_type": "code",
   "execution_count": null,
   "id": "dce0e824",
   "metadata": {},
   "outputs": [],
   "source": []
  },
  {
   "cell_type": "code",
   "execution_count": null,
   "id": "583626f5",
   "metadata": {},
   "outputs": [],
   "source": []
  },
  {
   "cell_type": "code",
   "execution_count": 118,
   "id": "207a341f",
   "metadata": {},
   "outputs": [],
   "source": [
    "data = data.rename({\"Native Country\": \"Country\"}, axis=1)"
   ]
  },
  {
   "cell_type": "code",
   "execution_count": 119,
   "id": "090dffe5",
   "metadata": {},
   "outputs": [
    {
     "name": "stderr",
     "output_type": "stream",
     "text": [
      "C:\\Users\\hp\\anaconda3\\lib\\site-packages\\seaborn\\_decorators.py:36: FutureWarning: Pass the following variable as a keyword arg: x. From version 0.12, the only valid positional argument will be `data`, and passing other arguments without an explicit keyword will result in an error or misinterpretation.\n",
      "  warnings.warn(\n"
     ]
    },
    {
     "data": {
      "text/plain": [
       "<AxesSubplot:xlabel='Hours per Week'>"
      ]
     },
     "execution_count": 119,
     "metadata": {},
     "output_type": "execute_result"
    },
    {
     "data": {
      "image/png": "[encoded data removed]",
      "text/plain": [
       "<Figure size 432x288 with 1 Axes>"
      ]
     },
     "metadata": {
      "needs_background": "light"
     },
     "output_type": "display_data"
    }
   ],
   "source": [
    "sns.boxplot(data['Hours per Week'])"
   ]
  },
  {
   "cell_type": "code",
   "execution_count": null,
   "id": "af46247f",
   "metadata": {},
   "outputs": [],
   "source": []
  },
  {
   "cell_type": "code",
   "execution_count": 120,
   "id": "ef00604d",
   "metadata": {},
   "outputs": [],
   "source": [
    "def remove_outlier_hours_per_week(data):\n",
    "    IQR = data['Hours per Week'].quantile(0.75) - data['Hours per Week'].quantile(0.25)\n",
    "    lower_range = data['Hours per Week'].quantile(0.25) - (1.5 * IQR)\n",
    "    upper_range = data['Hours per Week'].quantile(0.75) + (1.5 * IQR)                                                  \n",
    "    data.loc[data['Hours per Week'] <= lower_range, 'Hours per Week'] = lower_range\n",
    "    data.loc[data['Hours per Week'] >= upper_range, 'Hours per Week'] = upper_range"
   ]
  },
  {
   "cell_type": "code",
   "execution_count": 121,
   "id": "b45c0765",
   "metadata": {},
   "outputs": [],
   "source": [
    "remove_outlier_hours_per_week(data)"
   ]
  },
  {
   "cell_type": "code",
   "execution_count": 122,
   "id": "9e8c8269",
   "metadata": {},
   "outputs": [
    {
     "name": "stderr",
     "output_type": "stream",
     "text": [
      "C:\\Users\\hp\\anaconda3\\lib\\site-packages\\seaborn\\_decorators.py:36: FutureWarning: Pass the following variable as a keyword arg: x. From version 0.12, the only valid positional argument will be `data`, and passing other arguments without an explicit keyword will result in an error or misinterpretation.\n",
      "  warnings.warn(\n"
     ]
    },
    {
     "data": {
      "text/plain": [
       "<AxesSubplot:xlabel='Hours per Week'>"
      ]
     },
     "execution_count": 122,
     "metadata": {},
     "output_type": "execute_result"
    },
    {
     "data": {
      "image/png": "[encoded data removed]",
      "text/plain": [
       "<Figure size 432x288 with 1 Axes>"
      ]
     },
     "metadata": {
      "needs_background": "light"
     },
     "output_type": "display_data"
    }
   ],
   "source": [
    "sns.boxplot(data['Hours per Week'])"
   ]
  },
  {
   "cell_type": "code",
   "execution_count": 123,
   "id": "d41ccebd",
   "metadata": {},
   "outputs": [
    {
     "name": "stderr",
     "output_type": "stream",
     "text": [
      "C:\\Users\\hp\\anaconda3\\lib\\site-packages\\seaborn\\_decorators.py:36: FutureWarning: Pass the following variable as a keyword arg: x. From version 0.12, the only valid positional argument will be `data`, and passing other arguments without an explicit keyword will result in an error or misinterpretation.\n",
      "  warnings.warn(\n"
     ]
    },
    {
     "data": {
      "text/plain": [
       "<AxesSubplot:xlabel='Education Yrs'>"
      ]
     },
     "execution_count": 123,
     "metadata": {},
     "output_type": "execute_result"
    },
    {
     "data": {
      "image/png": "[encoded data removed]",
      "text/plain": [
       "<Figure size 432x288 with 1 Axes>"
      ]
     },
     "metadata": {
      "needs_background": "light"
     },
     "output_type": "display_data"
    }
   ],
   "source": [
    "sns.boxplot(data['Education Yrs'])"
   ]
  },
  {
   "cell_type": "code",
   "execution_count": 124,
   "id": "fd025591",
   "metadata": {},
   "outputs": [],
   "source": [
    "def remove_outlier_education_yrs(data):\n",
    "    IQR = data['Education Yrs'].quantile(0.75) - data['Education Yrs'].quantile(0.25)\n",
    "    lower_range = data['Education Yrs'].quantile(0.25) - (1.5 * IQR)\n",
    "    upper_range = data['Education Yrs'].quantile(0.75) + (1.5 * IQR)                                                  \n",
    "    data.loc[data['Education Yrs'] <= lower_range, 'Education Yrs'] = lower_range\n",
    "    data.loc[data['Education Yrs'] >= upper_range, 'Education Yrs'] = upper_range"
   ]
  },
  {
   "cell_type": "code",
   "execution_count": 125,
   "id": "9fa8ce5b",
   "metadata": {},
   "outputs": [],
   "source": [
    "remove_outlier_education_yrs(data)"
   ]
  },
  {
   "cell_type": "code",
   "execution_count": 126,
   "id": "1708c3ac",
   "metadata": {},
   "outputs": [
    {
     "name": "stderr",
     "output_type": "stream",
     "text": [
      "C:\\Users\\hp\\anaconda3\\lib\\site-packages\\seaborn\\_decorators.py:36: FutureWarning: Pass the following variable as a keyword arg: x. From version 0.12, the only valid positional argument will be `data`, and passing other arguments without an explicit keyword will result in an error or misinterpretation.\n",
      "  warnings.warn(\n"
     ]
    },
    {
     "data": {
      "text/plain": [
       "<AxesSubplot:xlabel='Education Yrs'>"
      ]
     },
     "execution_count": 126,
     "metadata": {},
     "output_type": "execute_result"
    },
    {
     "data": {
      "image/png": "[encoded data removed]",
      "text/plain": [
       "<Figure size 432x288 with 1 Axes>"
      ]
     },
     "metadata": {
      "needs_background": "light"
     },
     "output_type": "display_data"
    }
   ],
   "source": [
    "sns.boxplot(data['Education Yrs'])"
   ]
  },
  {
   "cell_type": "code",
   "execution_count": 127,
   "id": "9abd0ad3",
   "metadata": {},
   "outputs": [
    {
     "name": "stderr",
     "output_type": "stream",
     "text": [
      "C:\\Users\\hp\\anaconda3\\lib\\site-packages\\seaborn\\_decorators.py:36: FutureWarning: Pass the following variable as a keyword arg: x. From version 0.12, the only valid positional argument will be `data`, and passing other arguments without an explicit keyword will result in an error or misinterpretation.\n",
      "  warnings.warn(\n"
     ]
    },
    {
     "data": {
      "text/plain": [
       "<AxesSubplot:xlabel='Age'>"
      ]
     },
     "execution_count": 127,
     "metadata": {},
     "output_type": "execute_result"
    },
    {
     "data": {
      "image/png": "[encoded data removed]",
      "text/plain": [
       "<Figure size 432x288 with 1 Axes>"
      ]
     },
     "metadata": {
      "needs_background": "light"
     },
     "output_type": "display_data"
    }
   ],
   "source": [
    "sns.boxplot(data['Age'])"
   ]
  },
  {
   "cell_type": "code",
   "execution_count": 128,
   "id": "9c252b88",
   "metadata": {},
   "outputs": [],
   "source": [
    "def remove_outlier_age(data):\n",
    "    IQR = data['Age'].quantile(0.75) - data['Age'].quantile(0.25)\n",
    "    lower_range = data['Age'].quantile(0.25) - (1.5 * IQR)\n",
    "    upper_range = data['Age'].quantile(0.75) + (1.5 * IQR)                                                  \n",
    "    data.loc[data['Age'] <= lower_range, 'Age'] = lower_range\n",
    "    data.loc[data['Age'] >= upper_range, 'Age'] = upper_range"
   ]
  },
  {
   "cell_type": "code",
   "execution_count": 129,
   "id": "b9ebb7f5",
   "metadata": {},
   "outputs": [],
   "source": [
    "remove_outlier_age(data)"
   ]
  },
  {
   "cell_type": "code",
   "execution_count": 130,
   "id": "38607047",
   "metadata": {},
   "outputs": [
    {
     "name": "stderr",
     "output_type": "stream",
     "text": [
      "C:\\Users\\hp\\anaconda3\\lib\\site-packages\\seaborn\\_decorators.py:36: FutureWarning: Pass the following variable as a keyword arg: x. From version 0.12, the only valid positional argument will be `data`, and passing other arguments without an explicit keyword will result in an error or misinterpretation.\n",
      "  warnings.warn(\n"
     ]
    },
    {
     "data": {
      "text/plain": [
       "<AxesSubplot:xlabel='Age'>"
      ]
     },
     "execution_count": 130,
     "metadata": {},
     "output_type": "execute_result"
    },
    {
     "data": {
      "image/png": "[encoded data removed]",
      "text/plain": [
       "<Figure size 432x288 with 1 Axes>"
      ]
     },
     "metadata": {
      "needs_background": "light"
     },
     "output_type": "display_data"
    }
   ],
   "source": [
    "sns.boxplot(data['Age'])"
   ]
  },
  {
   "cell_type": "code",
   "execution_count": 131,
   "id": "198b065e",
   "metadata": {},
   "outputs": [
    {
     "name": "stderr",
     "output_type": "stream",
     "text": [
      "C:\\Users\\hp\\anaconda3\\lib\\site-packages\\seaborn\\_decorators.py:36: FutureWarning: Pass the following variable as a keyword arg: x. From version 0.12, the only valid positional argument will be `data`, and passing other arguments without an explicit keyword will result in an error or misinterpretation.\n",
      "  warnings.warn(\n"
     ]
    },
    {
     "data": {
      "text/plain": [
       "<AxesSubplot:xlabel='Capital Gain'>"
      ]
     },
     "execution_count": 131,
     "metadata": {},
     "output_type": "execute_result"
    },
    {
     "data": {
      "image/png": "[encoded data removed]",
      "text/plain": [
       "<Figure size 432x288 with 1 Axes>"
      ]
     },
     "metadata": {
      "needs_background": "light"
     },
     "output_type": "display_data"
    }
   ],
   "source": [
    "sns.boxplot(data['Capital Gain'])"
   ]
  },
  {
   "cell_type": "code",
   "execution_count": 132,
   "id": "695df433",
   "metadata": {},
   "outputs": [],
   "source": [
    "def remove_outlier_Capital_Gain(data):\n",
    "    IQR = data['Capital Gain'].quantile(0.75) - data['Capital Gain'].quantile(0.25)\n",
    "    lower_range = data['Capital Gain'].quantile(0.25) - (1.5 * IQR)\n",
    "    upper_range = data['Capital Gain'].quantile(0.75) + (1.5 * IQR)                                                  \n",
    "    data.loc[data['Capital Gain'] <= lower_range, 'Capital Gain'] = lower_range\n",
    "    data.loc[data['Capital Gain'] >= upper_range, 'Capital Gain'] = upper_range"
   ]
  },
  {
   "cell_type": "code",
   "execution_count": 133,
   "id": "162a5c51",
   "metadata": {},
   "outputs": [],
   "source": [
    "remove_outlier_Capital_Gain(data)"
   ]
  },
  {
   "cell_type": "code",
   "execution_count": 134,
   "id": "d4525008",
   "metadata": {},
   "outputs": [
    {
     "name": "stderr",
     "output_type": "stream",
     "text": [
      "C:\\Users\\hp\\anaconda3\\lib\\site-packages\\seaborn\\_decorators.py:36: FutureWarning: Pass the following variable as a keyword arg: x. From version 0.12, the only valid positional argument will be `data`, and passing other arguments without an explicit keyword will result in an error or misinterpretation.\n",
      "  warnings.warn(\n"
     ]
    },
    {
     "data": {
      "text/plain": [
       "<AxesSubplot:xlabel='Capital Gain'>"
      ]
     },
     "execution_count": 134,
     "metadata": {},
     "output_type": "execute_result"
    },
    {
     "data": {
      "image/png": "[encoded data removed]",
      "text/plain": [
       "<Figure size 432x288 with 1 Axes>"
      ]
     },
     "metadata": {
      "needs_background": "light"
     },
     "output_type": "display_data"
    }
   ],
   "source": [
    "sns.boxplot(data['Capital Gain'])"
   ]
  },
  {
   "cell_type": "code",
   "execution_count": 135,
   "id": "b0978373",
   "metadata": {},
   "outputs": [
    {
     "name": "stderr",
     "output_type": "stream",
     "text": [
      "C:\\Users\\hp\\anaconda3\\lib\\site-packages\\seaborn\\_decorators.py:36: FutureWarning: Pass the following variable as a keyword arg: x. From version 0.12, the only valid positional argument will be `data`, and passing other arguments without an explicit keyword will result in an error or misinterpretation.\n",
      "  warnings.warn(\n"
     ]
    },
    {
     "data": {
      "text/plain": [
       "<AxesSubplot:xlabel='Capital Loss'>"
      ]
     },
     "execution_count": 135,
     "metadata": {},
     "output_type": "execute_result"
    },
    {
     "data": {
      "image/png": "[encoded data removed]",
      "text/plain": [
       "<Figure size 432x288 with 1 Axes>"
      ]
     },
     "metadata": {
      "needs_background": "light"
     },
     "output_type": "display_data"
    }
   ],
   "source": [
    "sns.boxplot(data['Capital Loss'])"
   ]
  },
  {
   "cell_type": "code",
   "execution_count": 136,
   "id": "492befac",
   "metadata": {},
   "outputs": [],
   "source": [
    "def remove_outlier_Capital_Loss(data):\n",
    "    IQR = data['Capital Loss'].quantile(0.75) - data['Capital Loss'].quantile(0.25)\n",
    "    lower_range = data['Capital Loss'].quantile(0.25) - (1.5 * IQR)\n",
    "    upper_range = data['Capital Loss'].quantile(0.75) + (1.5 * IQR)                                                  \n",
    "    data.loc[data['Capital Loss'] <= lower_range, 'Capital Loss'] = lower_range\n",
    "    data.loc[data['Capital Loss'] >= upper_range, 'Capital Loss'] = upper_range"
   ]
  },
  {
   "cell_type": "code",
   "execution_count": 137,
   "id": "4580231c",
   "metadata": {},
   "outputs": [],
   "source": [
    "remove_outlier_Capital_Loss(data)"
   ]
  },
  {
   "cell_type": "code",
   "execution_count": 138,
   "id": "46b1b362",
   "metadata": {},
   "outputs": [
    {
     "name": "stderr",
     "output_type": "stream",
     "text": [
      "C:\\Users\\hp\\anaconda3\\lib\\site-packages\\seaborn\\_decorators.py:36: FutureWarning: Pass the following variable as a keyword arg: x. From version 0.12, the only valid positional argument will be `data`, and passing other arguments without an explicit keyword will result in an error or misinterpretation.\n",
      "  warnings.warn(\n"
     ]
    },
    {
     "data": {
      "text/plain": [
       "<AxesSubplot:xlabel='Capital Loss'>"
      ]
     },
     "execution_count": 138,
     "metadata": {},
     "output_type": "execute_result"
    },
    {
     "data": {
      "image/png": "[encoded data removed]",
      "text/plain": [
       "<Figure size 432x288 with 1 Axes>"
      ]
     },
     "metadata": {
      "needs_background": "light"
     },
     "output_type": "display_data"
    }
   ],
   "source": [
    "sns.boxplot(data['Capital Loss'])"
   ]
  },
  {
   "cell_type": "code",
   "execution_count": 139,
   "id": "1f4c69db",
   "metadata": {},
   "outputs": [
    {
     "name": "stderr",
     "output_type": "stream",
     "text": [
      "C:\\Users\\hp\\anaconda3\\lib\\site-packages\\seaborn\\_decorators.py:36: FutureWarning: Pass the following variable as a keyword arg: x. From version 0.12, the only valid positional argument will be `data`, and passing other arguments without an explicit keyword will result in an error or misinterpretation.\n",
      "  warnings.warn(\n"
     ]
    },
    {
     "data": {
      "text/plain": [
       "<AxesSubplot:xlabel='Salary'>"
      ]
     },
     "execution_count": 139,
     "metadata": {},
     "output_type": "execute_result"
    },
    {
     "data": {
      "image/png": "[encoded data removed]",
      "text/plain": [
       "<Figure size 432x288 with 1 Axes>"
      ]
     },
     "metadata": {
      "needs_background": "light"
     },
     "output_type": "display_data"
    }
   ],
   "source": [
    "sns.boxplot(data['Salary'])"
   ]
  },
  {
   "cell_type": "code",
   "execution_count": 140,
   "id": "f2c5c869",
   "metadata": {},
   "outputs": [],
   "source": [
    "def remove_outlier_Salary(data):\n",
    "    IQR = data['Salary'].quantile(0.75) - data['Salary'].quantile(0.25)\n",
    "    lower_range = data['Salary'].quantile(0.25) - (1.5 * IQR)\n",
    "    upper_range = data['Salary'].quantile(0.75) + (1.5 * IQR)                                                  \n",
    "    data.loc[data['Salary'] <= lower_range, 'Salary'] = lower_range\n",
    "    data.loc[data['Salary'] >= upper_range, 'Salary'] = upper_range"
   ]
  },
  {
   "cell_type": "code",
   "execution_count": 141,
   "id": "e2638411",
   "metadata": {},
   "outputs": [],
   "source": [
    "remove_outlier_Salary(data)"
   ]
  },
  {
   "cell_type": "code",
   "execution_count": 142,
   "id": "39c27763",
   "metadata": {},
   "outputs": [
    {
     "name": "stderr",
     "output_type": "stream",
     "text": [
      "C:\\Users\\hp\\anaconda3\\lib\\site-packages\\seaborn\\_decorators.py:36: FutureWarning: Pass the following variable as a keyword arg: x. From version 0.12, the only valid positional argument will be `data`, and passing other arguments without an explicit keyword will result in an error or misinterpretation.\n",
      "  warnings.warn(\n"
     ]
    },
    {
     "data": {
      "text/plain": [
       "<AxesSubplot:xlabel='Salary'>"
      ]
     },
     "execution_count": 142,
     "metadata": {},
     "output_type": "execute_result"
    },
    {
     "data": {
      "image/png": "[encoded data removed]",
      "text/plain": [
       "<Figure size 432x288 with 1 Axes>"
      ]
     },
     "metadata": {
      "needs_background": "light"
     },
     "output_type": "display_data"
    }
   ],
   "source": [
    "sns.boxplot(data['Salary'])"
   ]
  },
  {
   "cell_type": "code",
   "execution_count": null,
   "id": "3eff24a7",
   "metadata": {},
   "outputs": [],
   "source": []
  },
  {
   "cell_type": "code",
   "execution_count": 143,
   "id": "2026ffbd",
   "metadata": {},
   "outputs": [
    {
     "data": {
      "text/html": [
       "<div>\n",
       "<style scoped>\n",
       "    .dataframe tbody tr th:only-of-type {\n",
       "        vertical-align: middle;\n",
       "    }\n",
       "\n",
       "    .dataframe tbody tr th {\n",
       "        vertical-align: top;\n",
       "    }\n",
       "\n",
       "    .dataframe thead th {\n",
       "        text-align: right;\n",
       "    }\n",
       "</style>\n",
       "<table border=\"1\" class=\"dataframe\">\n",
       "  <thead>\n",
       "    <tr style=\"text-align: right;\">\n",
       "      <th></th>\n",
       "      <th>Education</th>\n",
       "      <th>Education Yrs</th>\n",
       "      <th>Marital Status</th>\n",
       "      <th>Employer</th>\n",
       "      <th>Occupation</th>\n",
       "      <th>Hours per Week</th>\n",
       "      <th>Country</th>\n",
       "      <th>Capital Gain</th>\n",
       "      <th>Capital Loss</th>\n",
       "      <th>Salary</th>\n",
       "    </tr>\n",
       "  </thead>\n",
       "  <tbody>\n",
       "    <tr>\n",
       "      <th>0</th>\n",
       "      <td>Bachelors</td>\n",
       "      <td>13.0</td>\n",
       "      <td>Never-married</td>\n",
       "      <td>State-gov</td>\n",
       "      <td>Adm-clerical</td>\n",
       "      <td>40.0</td>\n",
       "      <td>United-States</td>\n",
       "      <td>0</td>\n",
       "      <td>0</td>\n",
       "      <td>77516.0</td>\n",
       "    </tr>\n",
       "    <tr>\n",
       "      <th>1</th>\n",
       "      <td>Bachelors</td>\n",
       "      <td>13.0</td>\n",
       "      <td>Married-civ-spouse</td>\n",
       "      <td>Self-emp-not-inc</td>\n",
       "      <td>Exec-managerial</td>\n",
       "      <td>32.5</td>\n",
       "      <td>United-States</td>\n",
       "      <td>0</td>\n",
       "      <td>0</td>\n",
       "      <td>83311.0</td>\n",
       "    </tr>\n",
       "    <tr>\n",
       "      <th>2</th>\n",
       "      <td>HS-grad</td>\n",
       "      <td>9.0</td>\n",
       "      <td>Divorced</td>\n",
       "      <td>Private</td>\n",
       "      <td>Handlers-cleaners</td>\n",
       "      <td>40.0</td>\n",
       "      <td>United-States</td>\n",
       "      <td>0</td>\n",
       "      <td>0</td>\n",
       "      <td>215646.0</td>\n",
       "    </tr>\n",
       "    <tr>\n",
       "      <th>3</th>\n",
       "      <td>11th</td>\n",
       "      <td>7.0</td>\n",
       "      <td>Married-civ-spouse</td>\n",
       "      <td>Private</td>\n",
       "      <td>Handlers-cleaners</td>\n",
       "      <td>40.0</td>\n",
       "      <td>United-States</td>\n",
       "      <td>0</td>\n",
       "      <td>0</td>\n",
       "      <td>234721.0</td>\n",
       "    </tr>\n",
       "    <tr>\n",
       "      <th>4</th>\n",
       "      <td>Bachelors</td>\n",
       "      <td>13.0</td>\n",
       "      <td>Married-civ-spouse</td>\n",
       "      <td>Private</td>\n",
       "      <td>Prof-specialty</td>\n",
       "      <td>40.0</td>\n",
       "      <td>Cuba</td>\n",
       "      <td>0</td>\n",
       "      <td>0</td>\n",
       "      <td>338409.0</td>\n",
       "    </tr>\n",
       "  </tbody>\n",
       "</table>\n",
       "</div>"
      ],
      "text/plain": [
       "    Education  Education Yrs       Marital Status           Employer  \\\n",
       "0   Bachelors           13.0        Never-married          State-gov   \n",
       "1   Bachelors           13.0   Married-civ-spouse   Self-emp-not-inc   \n",
       "2     HS-grad            9.0             Divorced            Private   \n",
       "3        11th            7.0   Married-civ-spouse            Private   \n",
       "4   Bachelors           13.0   Married-civ-spouse            Private   \n",
       "\n",
       "           Occupation  Hours per Week         Country  Capital Gain  \\\n",
       "0        Adm-clerical            40.0   United-States             0   \n",
       "1     Exec-managerial            32.5   United-States             0   \n",
       "2   Handlers-cleaners            40.0   United-States             0   \n",
       "3   Handlers-cleaners            40.0   United-States             0   \n",
       "4      Prof-specialty            40.0            Cuba             0   \n",
       "\n",
       "   Capital Loss    Salary  \n",
       "0             0   77516.0  \n",
       "1             0   83311.0  \n",
       "2             0  215646.0  \n",
       "3             0  234721.0  \n",
       "4             0  338409.0  "
      ]
     },
     "execution_count": 143,
     "metadata": {},
     "output_type": "execute_result"
    }
   ],
   "source": [
    "data = data[[ 'Education','Education Yrs', 'Marital Status', 'Employer',\n",
    "       'Occupation', 'Hours per Week', 'Country','Capital Gain','Capital Loss','Salary']]\n",
    "data.head()"
   ]
  },
  {
   "cell_type": "code",
   "execution_count": 144,
   "id": "3ce7c18c",
   "metadata": {},
   "outputs": [
    {
     "data": {
      "text/html": [
       "<div>\n",
       "<style scoped>\n",
       "    .dataframe tbody tr th:only-of-type {\n",
       "        vertical-align: middle;\n",
       "    }\n",
       "\n",
       "    .dataframe tbody tr th {\n",
       "        vertical-align: top;\n",
       "    }\n",
       "\n",
       "    .dataframe thead th {\n",
       "        text-align: right;\n",
       "    }\n",
       "</style>\n",
       "<table border=\"1\" class=\"dataframe\">\n",
       "  <thead>\n",
       "    <tr style=\"text-align: right;\">\n",
       "      <th></th>\n",
       "      <th>Education</th>\n",
       "      <th>Education Yrs</th>\n",
       "      <th>Marital Status</th>\n",
       "      <th>Employer</th>\n",
       "      <th>Occupation</th>\n",
       "      <th>Hours per Week</th>\n",
       "      <th>Country</th>\n",
       "      <th>Capital Gain</th>\n",
       "      <th>Capital Loss</th>\n",
       "      <th>Salary</th>\n",
       "    </tr>\n",
       "  </thead>\n",
       "  <tbody>\n",
       "    <tr>\n",
       "      <th>0</th>\n",
       "      <td>Bachelors</td>\n",
       "      <td>13.0</td>\n",
       "      <td>Never-married</td>\n",
       "      <td>State-gov</td>\n",
       "      <td>Adm-clerical</td>\n",
       "      <td>40.0</td>\n",
       "      <td>United-States</td>\n",
       "      <td>0</td>\n",
       "      <td>0</td>\n",
       "      <td>77516.0</td>\n",
       "    </tr>\n",
       "    <tr>\n",
       "      <th>1</th>\n",
       "      <td>Bachelors</td>\n",
       "      <td>13.0</td>\n",
       "      <td>Married-civ-spouse</td>\n",
       "      <td>Self-emp-not-inc</td>\n",
       "      <td>Exec-managerial</td>\n",
       "      <td>32.5</td>\n",
       "      <td>United-States</td>\n",
       "      <td>0</td>\n",
       "      <td>0</td>\n",
       "      <td>83311.0</td>\n",
       "    </tr>\n",
       "    <tr>\n",
       "      <th>2</th>\n",
       "      <td>HS-grad</td>\n",
       "      <td>9.0</td>\n",
       "      <td>Divorced</td>\n",
       "      <td>Private</td>\n",
       "      <td>Handlers-cleaners</td>\n",
       "      <td>40.0</td>\n",
       "      <td>United-States</td>\n",
       "      <td>0</td>\n",
       "      <td>0</td>\n",
       "      <td>215646.0</td>\n",
       "    </tr>\n",
       "    <tr>\n",
       "      <th>3</th>\n",
       "      <td>11th</td>\n",
       "      <td>7.0</td>\n",
       "      <td>Married-civ-spouse</td>\n",
       "      <td>Private</td>\n",
       "      <td>Handlers-cleaners</td>\n",
       "      <td>40.0</td>\n",
       "      <td>United-States</td>\n",
       "      <td>0</td>\n",
       "      <td>0</td>\n",
       "      <td>234721.0</td>\n",
       "    </tr>\n",
       "    <tr>\n",
       "      <th>4</th>\n",
       "      <td>Bachelors</td>\n",
       "      <td>13.0</td>\n",
       "      <td>Married-civ-spouse</td>\n",
       "      <td>Private</td>\n",
       "      <td>Prof-specialty</td>\n",
       "      <td>40.0</td>\n",
       "      <td>Cuba</td>\n",
       "      <td>0</td>\n",
       "      <td>0</td>\n",
       "      <td>338409.0</td>\n",
       "    </tr>\n",
       "  </tbody>\n",
       "</table>\n",
       "</div>"
      ],
      "text/plain": [
       "    Education  Education Yrs       Marital Status           Employer  \\\n",
       "0   Bachelors           13.0        Never-married          State-gov   \n",
       "1   Bachelors           13.0   Married-civ-spouse   Self-emp-not-inc   \n",
       "2     HS-grad            9.0             Divorced            Private   \n",
       "3        11th            7.0   Married-civ-spouse            Private   \n",
       "4   Bachelors           13.0   Married-civ-spouse            Private   \n",
       "\n",
       "           Occupation  Hours per Week         Country  Capital Gain  \\\n",
       "0        Adm-clerical            40.0   United-States             0   \n",
       "1     Exec-managerial            32.5   United-States             0   \n",
       "2   Handlers-cleaners            40.0   United-States             0   \n",
       "3   Handlers-cleaners            40.0   United-States             0   \n",
       "4      Prof-specialty            40.0            Cuba             0   \n",
       "\n",
       "   Capital Loss    Salary  \n",
       "0             0   77516.0  \n",
       "1             0   83311.0  \n",
       "2             0  215646.0  \n",
       "3             0  234721.0  \n",
       "4             0  338409.0  "
      ]
     },
     "execution_count": 144,
     "metadata": {},
     "output_type": "execute_result"
    }
   ],
   "source": [
    "data = data[data[\"Salary\"].notnull()]\n",
    "data.head()"
   ]
  },
  {
   "cell_type": "code",
   "execution_count": 145,
   "id": "55932ebb",
   "metadata": {},
   "outputs": [
    {
     "name": "stdout",
     "output_type": "stream",
     "text": [
      "<class 'pandas.core.frame.DataFrame'>\n",
      "Int64Index: 25999 entries, 0 to 25998\n",
      "Data columns (total 10 columns):\n",
      " #   Column          Non-Null Count  Dtype  \n",
      "---  ------          --------------  -----  \n",
      " 0   Education       25999 non-null  object \n",
      " 1   Education Yrs   25999 non-null  float64\n",
      " 2   Marital Status  25999 non-null  object \n",
      " 3   Employer        25999 non-null  object \n",
      " 4   Occupation      25999 non-null  object \n",
      " 5   Hours per Week  25999 non-null  float64\n",
      " 6   Country         25999 non-null  object \n",
      " 7   Capital Gain    25999 non-null  int64  \n",
      " 8   Capital Loss    25999 non-null  int64  \n",
      " 9   Salary          25999 non-null  float64\n",
      "dtypes: float64(3), int64(2), object(5)\n",
      "memory usage: 2.2+ MB\n"
     ]
    }
   ],
   "source": [
    "data.info()"
   ]
  },
  {
   "cell_type": "code",
   "execution_count": 146,
   "id": "c49c74aa",
   "metadata": {},
   "outputs": [
    {
     "data": {
      "text/plain": [
       "Education         0\n",
       "Education Yrs     0\n",
       "Marital Status    0\n",
       "Employer          0\n",
       "Occupation        0\n",
       "Hours per Week    0\n",
       "Country           0\n",
       "Capital Gain      0\n",
       "Capital Loss      0\n",
       "Salary            0\n",
       "dtype: int64"
      ]
     },
     "execution_count": 146,
     "metadata": {},
     "output_type": "execute_result"
    }
   ],
   "source": [
    "data = data.dropna()\n",
    "data.isnull().sum()"
   ]
  },
  {
   "cell_type": "code",
   "execution_count": 147,
   "id": "6e78d884",
   "metadata": {},
   "outputs": [
    {
     "data": {
      "text/plain": [
       " United-States                 23306\n",
       " Mexico                          509\n",
       " ?                               465\n",
       " Philippines                     159\n",
       " Germany                         106\n",
       " Canada                          103\n",
       " Puerto-Rico                     100\n",
       " England                          78\n",
       " El-Salvador                      76\n",
       " Cuba                             74\n",
       " India                            71\n",
       " South                            67\n",
       " China                            63\n",
       " Jamaica                          61\n",
       " Italy                            55\n",
       " Dominican-Republic               55\n",
       " Poland                           53\n",
       " Guatemala                        53\n",
       " Vietnam                          52\n",
       " Japan                            50\n",
       " Columbia                         46\n",
       " Taiwan                           44\n",
       " Haiti                            38\n",
       " Iran                             38\n",
       " Portugal                         28\n",
       " Nicaragua                        27\n",
       " Greece                           23\n",
       " Peru                             23\n",
       " France                           23\n",
       " Ireland                          20\n",
       " Ecuador                          19\n",
       " Cambodia                         16\n",
       " Thailand                         16\n",
       " Trinadad&Tobago                  12\n",
       " Hong                             12\n",
       " Yugoslavia                       11\n",
       " Hungary                          10\n",
       " Laos                             10\n",
       " Scotland                          9\n",
       " Honduras                          9\n",
       " Outlying-US(Guam-USVI-etc)        8\n",
       " Holand-Netherlands                1\n",
       "Name: Country, dtype: int64"
      ]
     },
     "execution_count": 147,
     "metadata": {},
     "output_type": "execute_result"
    }
   ],
   "source": [
    "data['Country'].value_counts()"
   ]
  },
  {
   "cell_type": "code",
   "execution_count": 148,
   "id": "8a21d732",
   "metadata": {},
   "outputs": [],
   "source": [
    "def shorten_categories(categories, cutoff):\n",
    "    categorical_map = {}\n",
    "    for i in range(len(categories)):\n",
    "        if categories.values[i] >= cutoff:\n",
    "            categorical_map[categories.index[i]] = categories.index[i]\n",
    "        else:\n",
    "            categorical_map[categories.index[i]] = 'Other'\n",
    "    return categorical_map\n"
   ]
  },
  {
   "cell_type": "code",
   "execution_count": 149,
   "id": "b07ceeb1",
   "metadata": {},
   "outputs": [
    {
     "data": {
      "text/plain": [
       " United-States    23306\n",
       "Other              1251\n",
       " Mexico             509\n",
       " ?                  465\n",
       " Philippines        159\n",
       " Germany            106\n",
       " Canada             103\n",
       " Puerto-Rico        100\n",
       "Name: Country, dtype: int64"
      ]
     },
     "execution_count": 149,
     "metadata": {},
     "output_type": "execute_result"
    }
   ],
   "source": [
    "country_map = shorten_categories(data.Country.value_counts(), 100)\n",
    "data['Country'] = data['Country'].map(country_map)\n",
    "data.Country.value_counts()"
   ]
  },
  {
   "cell_type": "code",
   "execution_count": 150,
   "id": "145c5459",
   "metadata": {},
   "outputs": [],
   "source": [
    "data['Country'] = np.where(data['Country'] == ' ?','Missing',data['Country'])"
   ]
  },
  {
   "cell_type": "code",
   "execution_count": 151,
   "id": "c0c752be",
   "metadata": {},
   "outputs": [],
   "source": [
    "indexCountry= data[data['Country'] == 'Missing' ].index\n",
    "data.drop(indexCountry , inplace=True)"
   ]
  },
  {
   "cell_type": "code",
   "execution_count": 152,
   "id": "616388bd",
   "metadata": {},
   "outputs": [
    {
     "data": {
      "text/plain": [
       " United-States    23306\n",
       "Other              1251\n",
       " Mexico             509\n",
       " Philippines        159\n",
       " Germany            106\n",
       " Canada             103\n",
       " Puerto-Rico        100\n",
       "Name: Country, dtype: int64"
      ]
     },
     "execution_count": 152,
     "metadata": {},
     "output_type": "execute_result"
    }
   ],
   "source": [
    "data.Country.value_counts()"
   ]
  },
  {
   "cell_type": "code",
   "execution_count": 153,
   "id": "7bdfaf7f",
   "metadata": {},
   "outputs": [
    {
     "data": {
      "image/png": "[encoded data removed]",
      "text/plain": [
       "<Figure size 864x504 with 1 Axes>"
      ]
     },
     "metadata": {
      "needs_background": "light"
     },
     "output_type": "display_data"
    }
   ],
   "source": [
    "fig, ax = plt.subplots(1,1, figsize=(12, 7))\n",
    "data.boxplot('Salary', 'Country', ax=ax)\n",
    "plt.suptitle('Salary (US$) v Country')\n",
    "plt.title('')\n",
    "plt.ylabel('Salary')\n",
    "plt.xticks(rotation=90)\n",
    "plt.show()"
   ]
  },
  {
   "cell_type": "code",
   "execution_count": 154,
   "id": "e1d02369",
   "metadata": {},
   "outputs": [
    {
     "data": {
      "text/plain": [
       "array([' Bachelors', ' HS-grad', ' 11th', ' Masters', ' 9th',\n",
       "       ' Some-college', ' Assoc-acdm', ' 7th-8th', ' Doctorate',\n",
       "       ' Assoc-voc', ' Prof-school', ' 5th-6th', ' 10th', ' 1st-4th',\n",
       "       ' Preschool', ' 12th'], dtype=object)"
      ]
     },
     "execution_count": 154,
     "metadata": {},
     "output_type": "execute_result"
    }
   ],
   "source": [
    "data['Education'].unique()"
   ]
  },
  {
   "cell_type": "code",
   "execution_count": 155,
   "id": "ae81dfa2",
   "metadata": {},
   "outputs": [],
   "source": [
    "def clean_education(x):\n",
    "    if ' Bachelors' in x:\n",
    "        return 'Bachelor’s degree'\n",
    "    if ' Assoc-voc' in x or ' Assoc-acdm' in x:\n",
    "        return 'Associates'\n",
    "    if ' HS-grad' in x:\n",
    "        return 'HS-Graduate'\n",
    "    if ' Some-college' in x:\n",
    "        return 'Colleges'\n",
    "    if ' Masters'  in x:\n",
    "        return 'Master’s'\n",
    "    if ' Prof-school' in x:\n",
    "        return 'Post grad'\n",
    "    if ' Doctorate' in x:\n",
    "        return 'Doctorate'\n",
    "    return 'Dropout'\n",
    "\n",
    "data['Education'] = data['Education'].apply(clean_education)"
   ]
  },
  {
   "cell_type": "code",
   "execution_count": 156,
   "id": "5246cae2",
   "metadata": {},
   "outputs": [
    {
     "data": {
      "text/plain": [
       "array(['Bachelor’s degree', 'HS-Graduate', 'Dropout', 'Master’s',\n",
       "       'Colleges', 'Associates', 'Doctorate', 'Post grad'], dtype=object)"
      ]
     },
     "execution_count": 156,
     "metadata": {},
     "output_type": "execute_result"
    }
   ],
   "source": [
    "data['Education'].unique()"
   ]
  },
  {
   "cell_type": "code",
   "execution_count": 157,
   "id": "0420122e",
   "metadata": {},
   "outputs": [
    {
     "data": {
      "text/plain": [
       "array([' Never-married', ' Married-civ-spouse', ' Divorced',\n",
       "       ' Married-spouse-absent', ' Separated', ' Married-AF-spouse',\n",
       "       ' Widowed'], dtype=object)"
      ]
     },
     "execution_count": 157,
     "metadata": {},
     "output_type": "execute_result"
    }
   ],
   "source": [
    "data['Marital Status'].unique()"
   ]
  },
  {
   "cell_type": "code",
   "execution_count": 158,
   "id": "416edc49",
   "metadata": {},
   "outputs": [],
   "source": [
    "def clean_marital(x):\n",
    "    if ' Married-civ-spouse' in x or ' Married-AF-spouse' in x :\n",
    "        return 'Married'\n",
    "    if ' Married-spouse-absent' in x or ' Separated' in x or ' Divorced' in x:\n",
    "        return 'Not-married'\n",
    "    if ' Widowed' in x:\n",
    "        return ' Widowed'\n",
    "    if ' Never-married' in x:\n",
    "        return ' Never-married'\n",
    "\n",
    "data['Marital Status'] = data['Marital Status'].apply(clean_marital)"
   ]
  },
  {
   "cell_type": "code",
   "execution_count": 159,
   "id": "7afdc230",
   "metadata": {},
   "outputs": [
    {
     "data": {
      "text/plain": [
       "array([' Never-married', 'Married', 'Not-married', ' Widowed'],\n",
       "      dtype=object)"
      ]
     },
     "execution_count": 159,
     "metadata": {},
     "output_type": "execute_result"
    }
   ],
   "source": [
    "data['Marital Status'].unique()"
   ]
  },
  {
   "cell_type": "code",
   "execution_count": 160,
   "id": "ed60c040",
   "metadata": {},
   "outputs": [
    {
     "data": {
      "text/plain": [
       "array([' Adm-clerical', ' Exec-managerial', ' Handlers-cleaners',\n",
       "       ' Prof-specialty', ' Other-service', ' Sales', ' Transport-moving',\n",
       "       ' Farming-fishing', ' Machine-op-inspct', ' Tech-support',\n",
       "       ' Craft-repair', ' ?', ' Protective-serv', ' Armed-Forces',\n",
       "       ' Priv-house-serv'], dtype=object)"
      ]
     },
     "execution_count": 160,
     "metadata": {},
     "output_type": "execute_result"
    }
   ],
   "source": [
    "data['Occupation'].unique()"
   ]
  },
  {
   "cell_type": "code",
   "execution_count": 161,
   "id": "3e01a149",
   "metadata": {},
   "outputs": [],
   "source": [
    "indexCountry= data[data['Occupation'] == ' ?' ].index\n",
    "data.drop(indexCountry , inplace=True)"
   ]
  },
  {
   "cell_type": "code",
   "execution_count": 162,
   "id": "b65a962d",
   "metadata": {},
   "outputs": [
    {
     "data": {
      "text/plain": [
       "array([' Adm-clerical', ' Exec-managerial', ' Handlers-cleaners',\n",
       "       ' Prof-specialty', ' Other-service', ' Sales', ' Transport-moving',\n",
       "       ' Farming-fishing', ' Machine-op-inspct', ' Tech-support',\n",
       "       ' Craft-repair', ' Protective-serv', ' Armed-Forces',\n",
       "       ' Priv-house-serv'], dtype=object)"
      ]
     },
     "execution_count": 162,
     "metadata": {},
     "output_type": "execute_result"
    }
   ],
   "source": [
    "data['Occupation'].unique()"
   ]
  },
  {
   "cell_type": "code",
   "execution_count": 163,
   "id": "a4a5f0a4",
   "metadata": {},
   "outputs": [],
   "source": [
    "def clean_Occupation(x):\n",
    "    if ' Adm-clerical' in x:\n",
    "        return 'Admin'\n",
    "    if ' Armed-Forces' in x:\n",
    "        return 'Military'\n",
    "    if ' Craft-repair' in x or ' Farming-fishing' in x or ' Handlers-cleaners' in x or ' Machine-op-inspct' in x or  ' Transport-moving' in x:\n",
    "        return 'Blue-Collar'\n",
    "    if ' Exec-managerial' in x:\n",
    "        return 'White-Collar'\n",
    "    if ' Other-service'  in x or ' Priv-house-serv'  in x:\n",
    "        return 'Service'\n",
    "    if ' Prof-specialty' in x:\n",
    "        return 'Professional'\n",
    "    if ' Protective-serv' in x or ' Tech-support' in x:\n",
    "        return 'Other-Occupations'\n",
    "    if ' Sales' in x:\n",
    "        return 'Sales'\n",
    "\n",
    "data['Occupation'] = data['Occupation'].apply(clean_Occupation)"
   ]
  },
  {
   "cell_type": "code",
   "execution_count": 164,
   "id": "acca7c64",
   "metadata": {},
   "outputs": [
    {
     "data": {
      "text/plain": [
       "array(['Admin', 'White-Collar', 'Blue-Collar', 'Professional', 'Service',\n",
       "       'Sales', 'Other-Occupations', 'Military'], dtype=object)"
      ]
     },
     "execution_count": 164,
     "metadata": {},
     "output_type": "execute_result"
    }
   ],
   "source": [
    "data['Occupation'].unique()"
   ]
  },
  {
   "cell_type": "code",
   "execution_count": 165,
   "id": "0d0efc08",
   "metadata": {},
   "outputs": [
    {
     "data": {
      "text/plain": [
       "array([' State-gov', ' Self-emp-not-inc', ' Private', ' Federal-gov',\n",
       "       ' Local-gov', ' Self-emp-inc', ' Without-pay'], dtype=object)"
      ]
     },
     "execution_count": 165,
     "metadata": {},
     "output_type": "execute_result"
    }
   ],
   "source": [
    "data['Employer'].unique()"
   ]
  },
  {
   "cell_type": "code",
   "execution_count": 166,
   "id": "ea5ccb37",
   "metadata": {},
   "outputs": [
    {
     "data": {
      "text/plain": [
       " Private             17752\n",
       " Self-emp-not-inc     2013\n",
       " Local-gov            1680\n",
       " State-gov            1018\n",
       " Self-emp-inc          863\n",
       " Federal-gov           756\n",
       " Without-pay            10\n",
       "Name: Employer, dtype: int64"
      ]
     },
     "execution_count": 166,
     "metadata": {},
     "output_type": "execute_result"
    }
   ],
   "source": [
    "data['Employer'].value_counts()"
   ]
  },
  {
   "cell_type": "code",
   "execution_count": 167,
   "id": "89bb9398",
   "metadata": {},
   "outputs": [],
   "source": [
    "def clean_Employer(x):\n",
    "    if ' Without-pay' in x:\n",
    "        return ' Without-pay'\n",
    "    if ' Self-emp-not-inc' in x or ' Self-emp-inc' in x:\n",
    "        return 'Self-employed'\n",
    "    if ' Local-gov' in x or ' State-gov' in x:\n",
    "        return 'Other-gov'\n",
    "    if ' Private' in x:\n",
    "        return 'Private'\n",
    "    if ' Federal-gov'  in x:\n",
    "        return 'Federal-gov'\n",
    "\n",
    "data['Employer'] = data['Employer'].apply(clean_Employer)"
   ]
  },
  {
   "cell_type": "code",
   "execution_count": 168,
   "id": "756a2063",
   "metadata": {},
   "outputs": [
    {
     "data": {
      "text/plain": [
       "array(['Other-gov', 'Self-employed', 'Private', 'Federal-gov',\n",
       "       ' Without-pay'], dtype=object)"
      ]
     },
     "execution_count": 168,
     "metadata": {},
     "output_type": "execute_result"
    }
   ],
   "source": [
    "data['Employer'].unique()"
   ]
  },
  {
   "cell_type": "code",
   "execution_count": 169,
   "id": "45c5e00e",
   "metadata": {},
   "outputs": [
    {
     "data": {
      "text/plain": [
       "array([40. , 32.5, 45. , 50. , 52.5, 35. , 52. , 44. , 43. , 38. , 48. ,\n",
       "       41. , 36. , 46. , 42. , 34. , 33. , 47. , 37. , 39. , 49. , 51. ])"
      ]
     },
     "execution_count": 169,
     "metadata": {},
     "output_type": "execute_result"
    }
   ],
   "source": [
    "data['Hours per Week'].unique()"
   ]
  },
  {
   "cell_type": "code",
   "execution_count": null,
   "id": "1d0dcf84",
   "metadata": {},
   "outputs": [],
   "source": []
  },
  {
   "cell_type": "code",
   "execution_count": null,
   "id": "d4a88cbd",
   "metadata": {},
   "outputs": [],
   "source": []
  },
  {
   "cell_type": "code",
   "execution_count": 170,
   "id": "a97a28e9",
   "metadata": {},
   "outputs": [],
   "source": [
    "from sklearn.preprocessing import LabelEncoder\n",
    "le_education = LabelEncoder()\n",
    "data['Education'] = le_education.fit_transform(data['Education'])\n",
    "\n",
    "le_country = LabelEncoder()\n",
    "data['Country'] = le_country.fit_transform(data['Country'])\n",
    "\n",
    "le_marital = LabelEncoder()\n",
    "data['Marital Status'] = le_marital.fit_transform(data['Marital Status'])\n",
    "\n",
    "le_employer = LabelEncoder()\n",
    "data['Employer'] = le_employer.fit_transform(data['Employer'])\n",
    "\n",
    "le_occupation = LabelEncoder()\n",
    "data['Occupation'] = le_occupation.fit_transform(data['Occupation'])"
   ]
  },
  {
   "cell_type": "code",
   "execution_count": 171,
   "id": "a8ae81f3",
   "metadata": {},
   "outputs": [
    {
     "data": {
      "text/plain": [
       "Index(['Education', 'Education Yrs', 'Marital Status', 'Employer',\n",
       "       'Occupation', 'Hours per Week', 'Country', 'Capital Gain',\n",
       "       'Capital Loss', 'Salary'],\n",
       "      dtype='object')"
      ]
     },
     "execution_count": 171,
     "metadata": {},
     "output_type": "execute_result"
    }
   ],
   "source": [
    "data.columns"
   ]
  },
  {
   "cell_type": "code",
   "execution_count": null,
   "id": "afdfafdb",
   "metadata": {},
   "outputs": [],
   "source": []
  },
  {
   "cell_type": "code",
   "execution_count": null,
   "id": "09838327",
   "metadata": {},
   "outputs": [],
   "source": []
  },
  {
   "cell_type": "code",
   "execution_count": null,
   "id": "71b46baa",
   "metadata": {},
   "outputs": [],
   "source": []
  },
  {
   "cell_type": "code",
   "execution_count": 172,
   "id": "85ed9995",
   "metadata": {},
   "outputs": [
    {
     "data": {
      "text/html": [
       "<div>\n",
       "<style scoped>\n",
       "    .dataframe tbody tr th:only-of-type {\n",
       "        vertical-align: middle;\n",
       "    }\n",
       "\n",
       "    .dataframe tbody tr th {\n",
       "        vertical-align: top;\n",
       "    }\n",
       "\n",
       "    .dataframe thead th {\n",
       "        text-align: right;\n",
       "    }\n",
       "</style>\n",
       "<table border=\"1\" class=\"dataframe\">\n",
       "  <thead>\n",
       "    <tr style=\"text-align: right;\">\n",
       "      <th></th>\n",
       "      <th>Education</th>\n",
       "      <th>Education Yrs</th>\n",
       "      <th>Marital Status</th>\n",
       "      <th>Employer</th>\n",
       "      <th>Occupation</th>\n",
       "      <th>Hours per Week</th>\n",
       "      <th>Country</th>\n",
       "      <th>Capital Gain</th>\n",
       "      <th>Capital Loss</th>\n",
       "      <th>Salary</th>\n",
       "    </tr>\n",
       "  </thead>\n",
       "  <tbody>\n",
       "    <tr>\n",
       "      <th>0</th>\n",
       "      <td>1</td>\n",
       "      <td>13.0</td>\n",
       "      <td>0</td>\n",
       "      <td>2</td>\n",
       "      <td>0</td>\n",
       "      <td>40.0</td>\n",
       "      <td>5</td>\n",
       "      <td>0</td>\n",
       "      <td>0</td>\n",
       "      <td>77516.0</td>\n",
       "    </tr>\n",
       "    <tr>\n",
       "      <th>1</th>\n",
       "      <td>1</td>\n",
       "      <td>13.0</td>\n",
       "      <td>2</td>\n",
       "      <td>4</td>\n",
       "      <td>7</td>\n",
       "      <td>32.5</td>\n",
       "      <td>5</td>\n",
       "      <td>0</td>\n",
       "      <td>0</td>\n",
       "      <td>83311.0</td>\n",
       "    </tr>\n",
       "    <tr>\n",
       "      <th>2</th>\n",
       "      <td>5</td>\n",
       "      <td>9.0</td>\n",
       "      <td>3</td>\n",
       "      <td>3</td>\n",
       "      <td>1</td>\n",
       "      <td>40.0</td>\n",
       "      <td>5</td>\n",
       "      <td>0</td>\n",
       "      <td>0</td>\n",
       "      <td>215646.0</td>\n",
       "    </tr>\n",
       "    <tr>\n",
       "      <th>3</th>\n",
       "      <td>4</td>\n",
       "      <td>7.0</td>\n",
       "      <td>2</td>\n",
       "      <td>3</td>\n",
       "      <td>1</td>\n",
       "      <td>40.0</td>\n",
       "      <td>5</td>\n",
       "      <td>0</td>\n",
       "      <td>0</td>\n",
       "      <td>234721.0</td>\n",
       "    </tr>\n",
       "    <tr>\n",
       "      <th>4</th>\n",
       "      <td>1</td>\n",
       "      <td>13.0</td>\n",
       "      <td>2</td>\n",
       "      <td>3</td>\n",
       "      <td>4</td>\n",
       "      <td>40.0</td>\n",
       "      <td>6</td>\n",
       "      <td>0</td>\n",
       "      <td>0</td>\n",
       "      <td>338409.0</td>\n",
       "    </tr>\n",
       "    <tr>\n",
       "      <th>5</th>\n",
       "      <td>6</td>\n",
       "      <td>14.0</td>\n",
       "      <td>2</td>\n",
       "      <td>3</td>\n",
       "      <td>7</td>\n",
       "      <td>40.0</td>\n",
       "      <td>5</td>\n",
       "      <td>0</td>\n",
       "      <td>0</td>\n",
       "      <td>284582.0</td>\n",
       "    </tr>\n",
       "    <tr>\n",
       "      <th>6</th>\n",
       "      <td>4</td>\n",
       "      <td>5.0</td>\n",
       "      <td>3</td>\n",
       "      <td>3</td>\n",
       "      <td>6</td>\n",
       "      <td>32.5</td>\n",
       "      <td>6</td>\n",
       "      <td>0</td>\n",
       "      <td>0</td>\n",
       "      <td>160187.0</td>\n",
       "    </tr>\n",
       "    <tr>\n",
       "      <th>7</th>\n",
       "      <td>5</td>\n",
       "      <td>9.0</td>\n",
       "      <td>2</td>\n",
       "      <td>4</td>\n",
       "      <td>7</td>\n",
       "      <td>45.0</td>\n",
       "      <td>5</td>\n",
       "      <td>0</td>\n",
       "      <td>0</td>\n",
       "      <td>209642.0</td>\n",
       "    </tr>\n",
       "    <tr>\n",
       "      <th>8</th>\n",
       "      <td>6</td>\n",
       "      <td>14.0</td>\n",
       "      <td>0</td>\n",
       "      <td>3</td>\n",
       "      <td>4</td>\n",
       "      <td>50.0</td>\n",
       "      <td>5</td>\n",
       "      <td>0</td>\n",
       "      <td>0</td>\n",
       "      <td>45781.0</td>\n",
       "    </tr>\n",
       "    <tr>\n",
       "      <th>9</th>\n",
       "      <td>1</td>\n",
       "      <td>13.0</td>\n",
       "      <td>2</td>\n",
       "      <td>3</td>\n",
       "      <td>7</td>\n",
       "      <td>40.0</td>\n",
       "      <td>5</td>\n",
       "      <td>0</td>\n",
       "      <td>0</td>\n",
       "      <td>159449.0</td>\n",
       "    </tr>\n",
       "    <tr>\n",
       "      <th>10</th>\n",
       "      <td>2</td>\n",
       "      <td>10.0</td>\n",
       "      <td>2</td>\n",
       "      <td>3</td>\n",
       "      <td>7</td>\n",
       "      <td>52.5</td>\n",
       "      <td>5</td>\n",
       "      <td>0</td>\n",
       "      <td>0</td>\n",
       "      <td>280464.0</td>\n",
       "    </tr>\n",
       "    <tr>\n",
       "      <th>11</th>\n",
       "      <td>1</td>\n",
       "      <td>13.0</td>\n",
       "      <td>2</td>\n",
       "      <td>2</td>\n",
       "      <td>4</td>\n",
       "      <td>40.0</td>\n",
       "      <td>6</td>\n",
       "      <td>0</td>\n",
       "      <td>0</td>\n",
       "      <td>141297.0</td>\n",
       "    </tr>\n",
       "    <tr>\n",
       "      <th>12</th>\n",
       "      <td>1</td>\n",
       "      <td>13.0</td>\n",
       "      <td>0</td>\n",
       "      <td>3</td>\n",
       "      <td>0</td>\n",
       "      <td>32.5</td>\n",
       "      <td>5</td>\n",
       "      <td>0</td>\n",
       "      <td>0</td>\n",
       "      <td>122272.0</td>\n",
       "    </tr>\n",
       "    <tr>\n",
       "      <th>13</th>\n",
       "      <td>0</td>\n",
       "      <td>12.0</td>\n",
       "      <td>0</td>\n",
       "      <td>3</td>\n",
       "      <td>5</td>\n",
       "      <td>50.0</td>\n",
       "      <td>5</td>\n",
       "      <td>0</td>\n",
       "      <td>0</td>\n",
       "      <td>205019.0</td>\n",
       "    </tr>\n",
       "    <tr>\n",
       "      <th>15</th>\n",
       "      <td>4</td>\n",
       "      <td>4.5</td>\n",
       "      <td>2</td>\n",
       "      <td>3</td>\n",
       "      <td>1</td>\n",
       "      <td>45.0</td>\n",
       "      <td>2</td>\n",
       "      <td>0</td>\n",
       "      <td>0</td>\n",
       "      <td>245487.0</td>\n",
       "    </tr>\n",
       "  </tbody>\n",
       "</table>\n",
       "</div>"
      ],
      "text/plain": [
       "    Education  Education Yrs  Marital Status  Employer  Occupation  \\\n",
       "0           1           13.0               0         2           0   \n",
       "1           1           13.0               2         4           7   \n",
       "2           5            9.0               3         3           1   \n",
       "3           4            7.0               2         3           1   \n",
       "4           1           13.0               2         3           4   \n",
       "5           6           14.0               2         3           7   \n",
       "6           4            5.0               3         3           6   \n",
       "7           5            9.0               2         4           7   \n",
       "8           6           14.0               0         3           4   \n",
       "9           1           13.0               2         3           7   \n",
       "10          2           10.0               2         3           7   \n",
       "11          1           13.0               2         2           4   \n",
       "12          1           13.0               0         3           0   \n",
       "13          0           12.0               0         3           5   \n",
       "15          4            4.5               2         3           1   \n",
       "\n",
       "    Hours per Week  Country  Capital Gain  Capital Loss    Salary  \n",
       "0             40.0        5             0             0   77516.0  \n",
       "1             32.5        5             0             0   83311.0  \n",
       "2             40.0        5             0             0  215646.0  \n",
       "3             40.0        5             0             0  234721.0  \n",
       "4             40.0        6             0             0  338409.0  \n",
       "5             40.0        5             0             0  284582.0  \n",
       "6             32.5        6             0             0  160187.0  \n",
       "7             45.0        5             0             0  209642.0  \n",
       "8             50.0        5             0             0   45781.0  \n",
       "9             40.0        5             0             0  159449.0  \n",
       "10            52.5        5             0             0  280464.0  \n",
       "11            40.0        6             0             0  141297.0  \n",
       "12            32.5        5             0             0  122272.0  \n",
       "13            50.0        5             0             0  205019.0  \n",
       "15            45.0        2             0             0  245487.0  "
      ]
     },
     "execution_count": 172,
     "metadata": {},
     "output_type": "execute_result"
    }
   ],
   "source": [
    "data.head(15)"
   ]
  },
  {
   "cell_type": "code",
   "execution_count": null,
   "id": "1dc3a8b1",
   "metadata": {},
   "outputs": [],
   "source": []
  },
  {
   "cell_type": "code",
   "execution_count": null,
   "id": "d8d09940",
   "metadata": {},
   "outputs": [],
   "source": []
  },
  {
   "cell_type": "code",
   "execution_count": null,
   "id": "115c2b84",
   "metadata": {},
   "outputs": [],
   "source": []
  },
  {
   "cell_type": "code",
   "execution_count": 173,
   "id": "2591784f",
   "metadata": {},
   "outputs": [],
   "source": [
    "train = data.iloc[:train_len - test_len  ,:]\n",
    "test = data.iloc[train_len - test_len  :,:]"
   ]
  },
  {
   "cell_type": "code",
   "execution_count": 174,
   "id": "53e7ad60",
   "metadata": {},
   "outputs": [
    {
     "data": {
      "text/html": [
       "<div>\n",
       "<style scoped>\n",
       "    .dataframe tbody tr th:only-of-type {\n",
       "        vertical-align: middle;\n",
       "    }\n",
       "\n",
       "    .dataframe tbody tr th {\n",
       "        vertical-align: top;\n",
       "    }\n",
       "\n",
       "    .dataframe thead th {\n",
       "        text-align: right;\n",
       "    }\n",
       "</style>\n",
       "<table border=\"1\" class=\"dataframe\">\n",
       "  <thead>\n",
       "    <tr style=\"text-align: right;\">\n",
       "      <th></th>\n",
       "      <th>Education</th>\n",
       "      <th>Education Yrs</th>\n",
       "      <th>Marital Status</th>\n",
       "      <th>Employer</th>\n",
       "      <th>Occupation</th>\n",
       "      <th>Hours per Week</th>\n",
       "      <th>Country</th>\n",
       "      <th>Capital Gain</th>\n",
       "      <th>Capital Loss</th>\n",
       "      <th>Salary</th>\n",
       "    </tr>\n",
       "  </thead>\n",
       "  <tbody>\n",
       "    <tr>\n",
       "      <th>0</th>\n",
       "      <td>1</td>\n",
       "      <td>13.0</td>\n",
       "      <td>0</td>\n",
       "      <td>2</td>\n",
       "      <td>0</td>\n",
       "      <td>40.0</td>\n",
       "      <td>5</td>\n",
       "      <td>0</td>\n",
       "      <td>0</td>\n",
       "      <td>77516.0</td>\n",
       "    </tr>\n",
       "    <tr>\n",
       "      <th>1</th>\n",
       "      <td>1</td>\n",
       "      <td>13.0</td>\n",
       "      <td>2</td>\n",
       "      <td>4</td>\n",
       "      <td>7</td>\n",
       "      <td>32.5</td>\n",
       "      <td>5</td>\n",
       "      <td>0</td>\n",
       "      <td>0</td>\n",
       "      <td>83311.0</td>\n",
       "    </tr>\n",
       "    <tr>\n",
       "      <th>2</th>\n",
       "      <td>5</td>\n",
       "      <td>9.0</td>\n",
       "      <td>3</td>\n",
       "      <td>3</td>\n",
       "      <td>1</td>\n",
       "      <td>40.0</td>\n",
       "      <td>5</td>\n",
       "      <td>0</td>\n",
       "      <td>0</td>\n",
       "      <td>215646.0</td>\n",
       "    </tr>\n",
       "    <tr>\n",
       "      <th>3</th>\n",
       "      <td>4</td>\n",
       "      <td>7.0</td>\n",
       "      <td>2</td>\n",
       "      <td>3</td>\n",
       "      <td>1</td>\n",
       "      <td>40.0</td>\n",
       "      <td>5</td>\n",
       "      <td>0</td>\n",
       "      <td>0</td>\n",
       "      <td>234721.0</td>\n",
       "    </tr>\n",
       "    <tr>\n",
       "      <th>4</th>\n",
       "      <td>1</td>\n",
       "      <td>13.0</td>\n",
       "      <td>2</td>\n",
       "      <td>3</td>\n",
       "      <td>4</td>\n",
       "      <td>40.0</td>\n",
       "      <td>6</td>\n",
       "      <td>0</td>\n",
       "      <td>0</td>\n",
       "      <td>338409.0</td>\n",
       "    </tr>\n",
       "  </tbody>\n",
       "</table>\n",
       "</div>"
      ],
      "text/plain": [
       "   Education  Education Yrs  Marital Status  Employer  Occupation  \\\n",
       "0          1           13.0               0         2           0   \n",
       "1          1           13.0               2         4           7   \n",
       "2          5            9.0               3         3           1   \n",
       "3          4            7.0               2         3           1   \n",
       "4          1           13.0               2         3           4   \n",
       "\n",
       "   Hours per Week  Country  Capital Gain  Capital Loss    Salary  \n",
       "0            40.0        5             0             0   77516.0  \n",
       "1            32.5        5             0             0   83311.0  \n",
       "2            40.0        5             0             0  215646.0  \n",
       "3            40.0        5             0             0  234721.0  \n",
       "4            40.0        6             0             0  338409.0  "
      ]
     },
     "execution_count": 174,
     "metadata": {},
     "output_type": "execute_result"
    }
   ],
   "source": [
    "train.head()"
   ]
  },
  {
   "cell_type": "code",
   "execution_count": 175,
   "id": "88a07a17",
   "metadata": {},
   "outputs": [
    {
     "data": {
      "text/html": [
       "<div>\n",
       "<style scoped>\n",
       "    .dataframe tbody tr th:only-of-type {\n",
       "        vertical-align: middle;\n",
       "    }\n",
       "\n",
       "    .dataframe tbody tr th {\n",
       "        vertical-align: top;\n",
       "    }\n",
       "\n",
       "    .dataframe thead th {\n",
       "        text-align: right;\n",
       "    }\n",
       "</style>\n",
       "<table border=\"1\" class=\"dataframe\">\n",
       "  <thead>\n",
       "    <tr style=\"text-align: right;\">\n",
       "      <th></th>\n",
       "      <th>Education</th>\n",
       "      <th>Education Yrs</th>\n",
       "      <th>Marital Status</th>\n",
       "      <th>Employer</th>\n",
       "      <th>Occupation</th>\n",
       "      <th>Hours per Week</th>\n",
       "      <th>Country</th>\n",
       "      <th>Capital Gain</th>\n",
       "      <th>Capital Loss</th>\n",
       "      <th>Salary</th>\n",
       "    </tr>\n",
       "  </thead>\n",
       "  <tbody>\n",
       "    <tr>\n",
       "      <th>20975</th>\n",
       "      <td>2</td>\n",
       "      <td>10.0</td>\n",
       "      <td>2</td>\n",
       "      <td>2</td>\n",
       "      <td>3</td>\n",
       "      <td>32.5</td>\n",
       "      <td>5</td>\n",
       "      <td>0</td>\n",
       "      <td>0</td>\n",
       "      <td>99823.0</td>\n",
       "    </tr>\n",
       "    <tr>\n",
       "      <th>20976</th>\n",
       "      <td>1</td>\n",
       "      <td>13.0</td>\n",
       "      <td>0</td>\n",
       "      <td>3</td>\n",
       "      <td>3</td>\n",
       "      <td>50.0</td>\n",
       "      <td>5</td>\n",
       "      <td>0</td>\n",
       "      <td>0</td>\n",
       "      <td>37379.0</td>\n",
       "    </tr>\n",
       "    <tr>\n",
       "      <th>20977</th>\n",
       "      <td>5</td>\n",
       "      <td>9.0</td>\n",
       "      <td>0</td>\n",
       "      <td>3</td>\n",
       "      <td>1</td>\n",
       "      <td>40.0</td>\n",
       "      <td>5</td>\n",
       "      <td>0</td>\n",
       "      <td>0</td>\n",
       "      <td>148645.0</td>\n",
       "    </tr>\n",
       "    <tr>\n",
       "      <th>20978</th>\n",
       "      <td>6</td>\n",
       "      <td>14.0</td>\n",
       "      <td>0</td>\n",
       "      <td>3</td>\n",
       "      <td>4</td>\n",
       "      <td>52.5</td>\n",
       "      <td>5</td>\n",
       "      <td>0</td>\n",
       "      <td>0</td>\n",
       "      <td>180477.0</td>\n",
       "    </tr>\n",
       "    <tr>\n",
       "      <th>20979</th>\n",
       "      <td>2</td>\n",
       "      <td>10.0</td>\n",
       "      <td>0</td>\n",
       "      <td>3</td>\n",
       "      <td>3</td>\n",
       "      <td>40.0</td>\n",
       "      <td>5</td>\n",
       "      <td>0</td>\n",
       "      <td>0</td>\n",
       "      <td>123147.0</td>\n",
       "    </tr>\n",
       "  </tbody>\n",
       "</table>\n",
       "</div>"
      ],
      "text/plain": [
       "       Education  Education Yrs  Marital Status  Employer  Occupation  \\\n",
       "20975          2           10.0               2         2           3   \n",
       "20976          1           13.0               0         3           3   \n",
       "20977          5            9.0               0         3           1   \n",
       "20978          6           14.0               0         3           4   \n",
       "20979          2           10.0               0         3           3   \n",
       "\n",
       "       Hours per Week  Country  Capital Gain  Capital Loss    Salary  \n",
       "20975            32.5        5             0             0   99823.0  \n",
       "20976            50.0        5             0             0   37379.0  \n",
       "20977            40.0        5             0             0  148645.0  \n",
       "20978            52.5        5             0             0  180477.0  \n",
       "20979            40.0        5             0             0  123147.0  "
      ]
     },
     "execution_count": 175,
     "metadata": {},
     "output_type": "execute_result"
    }
   ],
   "source": [
    "train.tail()"
   ]
  },
  {
   "cell_type": "code",
   "execution_count": 176,
   "id": "4311e358",
   "metadata": {},
   "outputs": [
    {
     "data": {
      "text/html": [
       "<div>\n",
       "<style scoped>\n",
       "    .dataframe tbody tr th:only-of-type {\n",
       "        vertical-align: middle;\n",
       "    }\n",
       "\n",
       "    .dataframe tbody tr th {\n",
       "        vertical-align: top;\n",
       "    }\n",
       "\n",
       "    .dataframe thead th {\n",
       "        text-align: right;\n",
       "    }\n",
       "</style>\n",
       "<table border=\"1\" class=\"dataframe\">\n",
       "  <thead>\n",
       "    <tr style=\"text-align: right;\">\n",
       "      <th></th>\n",
       "      <th>Education</th>\n",
       "      <th>Education Yrs</th>\n",
       "      <th>Marital Status</th>\n",
       "      <th>Employer</th>\n",
       "      <th>Occupation</th>\n",
       "      <th>Hours per Week</th>\n",
       "      <th>Country</th>\n",
       "      <th>Capital Gain</th>\n",
       "      <th>Capital Loss</th>\n",
       "    </tr>\n",
       "  </thead>\n",
       "  <tbody>\n",
       "    <tr>\n",
       "      <th>25994</th>\n",
       "      <td>2</td>\n",
       "      <td>10.0</td>\n",
       "      <td>2</td>\n",
       "      <td>3</td>\n",
       "      <td>1</td>\n",
       "      <td>40.0</td>\n",
       "      <td>6</td>\n",
       "      <td>0</td>\n",
       "      <td>0</td>\n",
       "    </tr>\n",
       "    <tr>\n",
       "      <th>25995</th>\n",
       "      <td>1</td>\n",
       "      <td>13.0</td>\n",
       "      <td>2</td>\n",
       "      <td>4</td>\n",
       "      <td>4</td>\n",
       "      <td>45.0</td>\n",
       "      <td>5</td>\n",
       "      <td>0</td>\n",
       "      <td>0</td>\n",
       "    </tr>\n",
       "    <tr>\n",
       "      <th>25996</th>\n",
       "      <td>5</td>\n",
       "      <td>9.0</td>\n",
       "      <td>2</td>\n",
       "      <td>3</td>\n",
       "      <td>1</td>\n",
       "      <td>40.0</td>\n",
       "      <td>5</td>\n",
       "      <td>0</td>\n",
       "      <td>0</td>\n",
       "    </tr>\n",
       "    <tr>\n",
       "      <th>25997</th>\n",
       "      <td>5</td>\n",
       "      <td>9.0</td>\n",
       "      <td>2</td>\n",
       "      <td>3</td>\n",
       "      <td>0</td>\n",
       "      <td>36.0</td>\n",
       "      <td>5</td>\n",
       "      <td>0</td>\n",
       "      <td>0</td>\n",
       "    </tr>\n",
       "    <tr>\n",
       "      <th>25998</th>\n",
       "      <td>2</td>\n",
       "      <td>10.0</td>\n",
       "      <td>3</td>\n",
       "      <td>2</td>\n",
       "      <td>1</td>\n",
       "      <td>40.0</td>\n",
       "      <td>5</td>\n",
       "      <td>0</td>\n",
       "      <td>0</td>\n",
       "    </tr>\n",
       "  </tbody>\n",
       "</table>\n",
       "</div>"
      ],
      "text/plain": [
       "       Education  Education Yrs  Marital Status  Employer  Occupation  \\\n",
       "25994          2           10.0               2         3           1   \n",
       "25995          1           13.0               2         4           4   \n",
       "25996          5            9.0               2         3           1   \n",
       "25997          5            9.0               2         3           0   \n",
       "25998          2           10.0               3         2           1   \n",
       "\n",
       "       Hours per Week  Country  Capital Gain  Capital Loss  \n",
       "25994            40.0        6             0             0  \n",
       "25995            45.0        5             0             0  \n",
       "25996            40.0        5             0             0  \n",
       "25997            36.0        5             0             0  \n",
       "25998            40.0        5             0             0  "
      ]
     },
     "execution_count": 176,
     "metadata": {},
     "output_type": "execute_result"
    }
   ],
   "source": [
    "test = test.drop(\"Salary\", axis=1)\n",
    "test.tail()"
   ]
  },
  {
   "cell_type": "code",
   "execution_count": 177,
   "id": "67f32e35",
   "metadata": {},
   "outputs": [
    {
     "data": {
      "text/html": [
       "<div>\n",
       "<style scoped>\n",
       "    .dataframe tbody tr th:only-of-type {\n",
       "        vertical-align: middle;\n",
       "    }\n",
       "\n",
       "    .dataframe tbody tr th {\n",
       "        vertical-align: top;\n",
       "    }\n",
       "\n",
       "    .dataframe thead th {\n",
       "        text-align: right;\n",
       "    }\n",
       "</style>\n",
       "<table border=\"1\" class=\"dataframe\">\n",
       "  <thead>\n",
       "    <tr style=\"text-align: right;\">\n",
       "      <th></th>\n",
       "      <th>Education</th>\n",
       "      <th>Education Yrs</th>\n",
       "      <th>Marital Status</th>\n",
       "      <th>Employer</th>\n",
       "      <th>Occupation</th>\n",
       "      <th>Hours per Week</th>\n",
       "      <th>Country</th>\n",
       "      <th>Capital Gain</th>\n",
       "      <th>Capital Loss</th>\n",
       "    </tr>\n",
       "  </thead>\n",
       "  <tbody>\n",
       "    <tr>\n",
       "      <th>20980</th>\n",
       "      <td>1</td>\n",
       "      <td>13.0</td>\n",
       "      <td>2</td>\n",
       "      <td>3</td>\n",
       "      <td>7</td>\n",
       "      <td>45.0</td>\n",
       "      <td>5</td>\n",
       "      <td>0</td>\n",
       "      <td>0</td>\n",
       "    </tr>\n",
       "    <tr>\n",
       "      <th>20981</th>\n",
       "      <td>0</td>\n",
       "      <td>11.0</td>\n",
       "      <td>3</td>\n",
       "      <td>2</td>\n",
       "      <td>4</td>\n",
       "      <td>40.0</td>\n",
       "      <td>5</td>\n",
       "      <td>0</td>\n",
       "      <td>0</td>\n",
       "    </tr>\n",
       "    <tr>\n",
       "      <th>20982</th>\n",
       "      <td>0</td>\n",
       "      <td>12.0</td>\n",
       "      <td>3</td>\n",
       "      <td>2</td>\n",
       "      <td>6</td>\n",
       "      <td>32.5</td>\n",
       "      <td>5</td>\n",
       "      <td>0</td>\n",
       "      <td>0</td>\n",
       "    </tr>\n",
       "    <tr>\n",
       "      <th>20983</th>\n",
       "      <td>5</td>\n",
       "      <td>9.0</td>\n",
       "      <td>2</td>\n",
       "      <td>3</td>\n",
       "      <td>1</td>\n",
       "      <td>40.0</td>\n",
       "      <td>5</td>\n",
       "      <td>0</td>\n",
       "      <td>0</td>\n",
       "    </tr>\n",
       "    <tr>\n",
       "      <th>20984</th>\n",
       "      <td>1</td>\n",
       "      <td>13.0</td>\n",
       "      <td>2</td>\n",
       "      <td>3</td>\n",
       "      <td>7</td>\n",
       "      <td>40.0</td>\n",
       "      <td>5</td>\n",
       "      <td>0</td>\n",
       "      <td>0</td>\n",
       "    </tr>\n",
       "  </tbody>\n",
       "</table>\n",
       "</div>"
      ],
      "text/plain": [
       "       Education  Education Yrs  Marital Status  Employer  Occupation  \\\n",
       "20980          1           13.0               2         3           7   \n",
       "20981          0           11.0               3         2           4   \n",
       "20982          0           12.0               3         2           6   \n",
       "20983          5            9.0               2         3           1   \n",
       "20984          1           13.0               2         3           7   \n",
       "\n",
       "       Hours per Week  Country  Capital Gain  Capital Loss  \n",
       "20980            45.0        5             0             0  \n",
       "20981            40.0        5             0             0  \n",
       "20982            32.5        5             0             0  \n",
       "20983            40.0        5             0             0  \n",
       "20984            40.0        5             0             0  "
      ]
     },
     "execution_count": 177,
     "metadata": {},
     "output_type": "execute_result"
    }
   ],
   "source": [
    "test.head()"
   ]
  },
  {
   "cell_type": "raw",
   "id": "22a55dd4",
   "metadata": {},
   "source": []
  },
  {
   "cell_type": "code",
   "execution_count": 178,
   "id": "b5379758",
   "metadata": {},
   "outputs": [],
   "source": [
    "X = train.drop([\"Salary\",'Capital Gain','Capital Loss'], axis=1)\n",
    "y = train[\"Salary\"]\n"
   ]
  },
  {
   "cell_type": "code",
   "execution_count": 179,
   "id": "7ad32e98",
   "metadata": {},
   "outputs": [
    {
     "data": {
      "text/plain": [
       "pandas.core.frame.DataFrame"
      ]
     },
     "execution_count": 179,
     "metadata": {},
     "output_type": "execute_result"
    }
   ],
   "source": [
    "type(X)"
   ]
  },
  {
   "cell_type": "code",
   "execution_count": 180,
   "id": "7c8b065e",
   "metadata": {},
   "outputs": [
    {
     "data": {
      "text/plain": [
       "array([[ 1. , 13. ,  0. , ...,  0. , 40. ,  5. ],\n",
       "       [ 1. , 13. ,  2. , ...,  7. , 32.5,  5. ],\n",
       "       [ 5. ,  9. ,  3. , ...,  1. , 40. ,  5. ],\n",
       "       ...,\n",
       "       [ 5. ,  9. ,  0. , ...,  1. , 40. ,  5. ],\n",
       "       [ 6. , 14. ,  0. , ...,  4. , 52.5,  5. ],\n",
       "       [ 2. , 10. ,  0. , ...,  3. , 40. ,  5. ]])"
      ]
     },
     "execution_count": 180,
     "metadata": {},
     "output_type": "execute_result"
    }
   ],
   "source": [
    "X.values"
   ]
  },
  {
   "cell_type": "code",
   "execution_count": 181,
   "id": "813c664b",
   "metadata": {},
   "outputs": [
    {
     "data": {
      "text/plain": [
       "(19437, 7)"
      ]
     },
     "execution_count": 181,
     "metadata": {},
     "output_type": "execute_result"
    }
   ],
   "source": [
    "X.shape"
   ]
  },
  {
   "cell_type": "code",
   "execution_count": 182,
   "id": "24df4d00",
   "metadata": {},
   "outputs": [
    {
     "data": {
      "text/plain": [
       "(19437,)"
      ]
     },
     "execution_count": 182,
     "metadata": {},
     "output_type": "execute_result"
    }
   ],
   "source": [
    "y.shape"
   ]
  },
  {
   "cell_type": "code",
   "execution_count": 183,
   "id": "84bfe338",
   "metadata": {},
   "outputs": [],
   "source": [
    "from sklearn.preprocessing import StandardScaler\n",
    "sc = StandardScaler()\n",
    "X = sc.fit_transform(X)\n",
    "\n",
    "# from sklearn.preprocessing import MinMaxScaler\n",
    "# norm = MinMaxScaler()\n",
    "# X = norm.fit_transform(X)"
   ]
  },
  {
   "cell_type": "code",
   "execution_count": null,
   "id": "3af7cc2a",
   "metadata": {},
   "outputs": [],
   "source": [
    "\n"
   ]
  },
  {
   "cell_type": "code",
   "execution_count": 184,
   "id": "87eb1cd2",
   "metadata": {},
   "outputs": [],
   "source": [
    "from sklearn.model_selection import train_test_split"
   ]
  },
  {
   "cell_type": "code",
   "execution_count": 185,
   "id": "88b6f18c",
   "metadata": {},
   "outputs": [],
   "source": [
    "X_train, X_test, y_train, y_test = train_test_split(X,y,test_size= 0.2, random_state=42)"
   ]
  },
  {
   "cell_type": "code",
   "execution_count": 186,
   "id": "ef686eb8",
   "metadata": {},
   "outputs": [
    {
     "name": "stdout",
     "output_type": "stream",
     "text": [
      "Train data shape : (15549, 7)\n",
      "Test data shape : (3888, 7)\n"
     ]
    }
   ],
   "source": [
    "print(\"Train data shape : {}\".format(X_train.shape))\n",
    "print(\"Test data shape : {}\".format(X_test.shape))"
   ]
  },
  {
   "cell_type": "code",
   "execution_count": 187,
   "id": "6928adec",
   "metadata": {},
   "outputs": [
    {
     "data": {
      "text/plain": [
       "LinearRegression()"
      ]
     },
     "execution_count": 187,
     "metadata": {},
     "output_type": "execute_result"
    }
   ],
   "source": [
    "from sklearn.linear_model import LinearRegression\n",
    "linear_reg = LinearRegression()\n",
    "linear_reg.fit(X,y)"
   ]
  },
  {
   "cell_type": "code",
   "execution_count": 188,
   "id": "e1fc2e04",
   "metadata": {},
   "outputs": [],
   "source": [
    "y_pred = linear_reg.predict(X_test)"
   ]
  },
  {
   "cell_type": "code",
   "execution_count": 189,
   "id": "0fc3f953",
   "metadata": {},
   "outputs": [],
   "source": [
    "from sklearn.metrics import mean_squared_error, mean_absolute_error,r2_score\n",
    "import numpy as np\n",
    "error = np.sqrt(mean_squared_error(y_test, y_pred))\n",
    "r2 = r2_score(y_test, y_pred)"
   ]
  },
  {
   "cell_type": "code",
   "execution_count": 190,
   "id": "44f67a4e",
   "metadata": {},
   "outputs": [
    {
     "data": {
      "text/plain": [
       "0.005621313744900269"
      ]
     },
     "execution_count": 190,
     "metadata": {},
     "output_type": "execute_result"
    }
   ],
   "source": [
    "r2"
   ]
  },
  {
   "cell_type": "code",
   "execution_count": 191,
   "id": "c620f0ea",
   "metadata": {},
   "outputs": [
    {
     "data": {
      "text/plain": [
       "DecisionTreeRegressor(max_depth=3, random_state=0)"
      ]
     },
     "execution_count": 191,
     "metadata": {},
     "output_type": "execute_result"
    }
   ],
   "source": [
    "from sklearn.tree import DecisionTreeRegressor\n",
    "dec_tree_reg = DecisionTreeRegressor(random_state=0,max_depth = 3)\n",
    "dec_tree_reg.fit(X, y)"
   ]
  },
  {
   "cell_type": "code",
   "execution_count": 192,
   "id": "28a051fc",
   "metadata": {},
   "outputs": [],
   "source": [
    "y_pred = dec_tree_reg.predict(X_test)"
   ]
  },
  {
   "cell_type": "code",
   "execution_count": 193,
   "id": "d9a006fe",
   "metadata": {},
   "outputs": [
    {
     "name": "stdout",
     "output_type": "stream",
     "text": [
      "$95,198.42\n"
     ]
    }
   ],
   "source": [
    "error = np.sqrt(mean_squared_error(y_test, y_pred))\n",
    "print(\"${:,.02f}\".format(error))\n",
    "r2 = r2_score(y_test, y_pred)"
   ]
  },
  {
   "cell_type": "code",
   "execution_count": 194,
   "id": "bf4c19eb",
   "metadata": {},
   "outputs": [
    {
     "data": {
      "text/plain": [
       "0.019326177711269876"
      ]
     },
     "execution_count": 194,
     "metadata": {},
     "output_type": "execute_result"
    }
   ],
   "source": [
    "r2"
   ]
  },
  {
   "cell_type": "code",
   "execution_count": null,
   "id": "c0bf7161",
   "metadata": {},
   "outputs": [],
   "source": []
  },
  {
   "cell_type": "code",
   "execution_count": 195,
   "id": "bf549a41",
   "metadata": {},
   "outputs": [],
   "source": [
    "# A=regressor.predict(X_test)\n",
    "# print(A)\n"
   ]
  },
  {
   "cell_type": "code",
   "execution_count": 196,
   "id": "d3878d20",
   "metadata": {},
   "outputs": [],
   "source": [
    "# r2 = r2_score(y_test,A)\n",
    "# r2"
   ]
  },
  {
   "cell_type": "code",
   "execution_count": 197,
   "id": "4e0f1f55",
   "metadata": {},
   "outputs": [],
   "source": [
    "from catboost import CatBoostRegressor\n",
    "model = CatBoostRegressor(objective=\"RMSE\")"
   ]
  },
  {
   "cell_type": "code",
   "execution_count": 198,
   "id": "30149558",
   "metadata": {},
   "outputs": [],
   "source": [
    "# model.fit(X_train, y_train)"
   ]
  },
  {
   "cell_type": "code",
   "execution_count": 199,
   "id": "a34d2aec",
   "metadata": {},
   "outputs": [],
   "source": [
    "# y_pred = model.predict(X_test)"
   ]
  },
  {
   "cell_type": "code",
   "execution_count": 200,
   "id": "4e13ab6b",
   "metadata": {},
   "outputs": [],
   "source": [
    "# r2 = r2_score(y_test,y_pred)\n",
    "# r2"
   ]
  },
  {
   "cell_type": "code",
   "execution_count": 201,
   "id": "6d7f27e0",
   "metadata": {},
   "outputs": [
    {
     "data": {
      "text/plain": [
       "RandomForestRegressor(random_state=50)"
      ]
     },
     "execution_count": 201,
     "metadata": {},
     "output_type": "execute_result"
    }
   ],
   "source": [
    "from sklearn.ensemble import RandomForestRegressor\n",
    "random_forest_reg = RandomForestRegressor(random_state=50)\n",
    "random_forest_reg.fit(X, y)"
   ]
  },
  {
   "cell_type": "code",
   "execution_count": 202,
   "id": "90340a93",
   "metadata": {},
   "outputs": [],
   "source": [
    "y_pred = random_forest_reg.predict(X_test)"
   ]
  },
  {
   "cell_type": "code",
   "execution_count": 203,
   "id": "cf7a6c39",
   "metadata": {
    "scrolled": true
   },
   "outputs": [
    {
     "name": "stdout",
     "output_type": "stream",
     "text": [
      "$85,497.54\n"
     ]
    }
   ],
   "source": [
    "error = np.sqrt(mean_squared_error(y_test, y_pred))\n",
    "print(\"${:,.02f}\".format(error))\n",
    "r2 = r2_score(y_test, y_pred)"
   ]
  },
  {
   "cell_type": "code",
   "execution_count": 204,
   "id": "b78c0a46",
   "metadata": {},
   "outputs": [
    {
     "data": {
      "text/plain": [
       "0.20900752682424273"
      ]
     },
     "execution_count": 204,
     "metadata": {},
     "output_type": "execute_result"
    }
   ],
   "source": [
    "r2"
   ]
  },
  {
   "cell_type": "code",
   "execution_count": null,
   "id": "f79c38f9",
   "metadata": {},
   "outputs": [],
   "source": []
  },
  {
   "cell_type": "code",
   "execution_count": null,
   "id": "176cd5a2",
   "metadata": {},
   "outputs": [],
   "source": []
  },
  {
   "cell_type": "code",
   "execution_count": 205,
   "id": "a1fbcb07",
   "metadata": {},
   "outputs": [],
   "source": [
    "#  X"
   ]
  },
  {
   "cell_type": "code",
   "execution_count": 206,
   "id": "734d6554",
   "metadata": {},
   "outputs": [],
   "source": [
    "# X = np.array([['Master’s', 9,'Married','Private','Service',30.0,' United-States']])\n",
    "# X"
   ]
  },
  {
   "cell_type": "code",
   "execution_count": 207,
   "id": "374f9dff",
   "metadata": {},
   "outputs": [],
   "source": [
    "# X[:, 0] = le_education.transform(X[:,0])\n",
    "# # X[:, 1] = le_educationyears.transform(X[:,1])\n",
    "# X[:, 2] = le_marital.transform(X[:,2])\n",
    "# X[:, 3] = le_employer.transform(X[:,3])\n",
    "# X[:, 4] = le_occupation.transform(X[:,4])\n",
    "# # X[:, 5] = le_hpr.transform(X[:,5])\n",
    "# X[:, 6] = le_country.transform(X[:,6])\n",
    "# X = X.astype(float)\n",
    "# X"
   ]
  },
  {
   "cell_type": "code",
   "execution_count": 208,
   "id": "bb022f0d",
   "metadata": {},
   "outputs": [],
   "source": [
    "# y_pred = random_forest_reg.predict(X)\n",
    "# y_pred"
   ]
  },
  {
   "cell_type": "code",
   "execution_count": 209,
   "id": "56c29550",
   "metadata": {},
   "outputs": [],
   "source": [
    "# import pickle"
   ]
  },
  {
   "cell_type": "code",
   "execution_count": 210,
   "id": "6fee44e9",
   "metadata": {},
   "outputs": [],
   "source": [
    "# data = {\"model\": random_forest_reg, \"le_education\": le_education, \"le_marital\": le_marital, \"le_employer\": le_employer,\"le_occupation\": le_occupation, \"le_country\": le_country}\n",
    "# with open('saved_steps.pkl', 'wb') as file:\n",
    "#     pickle.dump(data, file)"
   ]
  },
  {
   "cell_type": "code",
   "execution_count": 211,
   "id": "aa8390b4",
   "metadata": {},
   "outputs": [],
   "source": [
    "# with open('saved_steps.pkl', 'rb') as file:\n",
    "#     data = pickle.load(file)\n",
    "\n",
    "# regressor_loaded = data[\"model\"]\n",
    "# le_education = data[\"le_education\"]\n",
    "# le_marital = data[\"le_marital\"]\n",
    "# le_employer = data[\"le_employer\"]\n",
    "# le_occupation = data[\"le_occupation\"]\n",
    "# le_country = data[\"le_country\"]"
   ]
  },
  {
   "cell_type": "code",
   "execution_count": 212,
   "id": "ce135988",
   "metadata": {},
   "outputs": [],
   "source": [
    "# y_pred = random_forest_reg.predict(X)\n",
    "# y_pred"
   ]
  },
  {
   "cell_type": "code",
   "execution_count": 213,
   "id": "c5a749e6",
   "metadata": {},
   "outputs": [
    {
     "data": {
      "text/html": [
       "<div>\n",
       "<style scoped>\n",
       "    .dataframe tbody tr th:only-of-type {\n",
       "        vertical-align: middle;\n",
       "    }\n",
       "\n",
       "    .dataframe tbody tr th {\n",
       "        vertical-align: top;\n",
       "    }\n",
       "\n",
       "    .dataframe thead th {\n",
       "        text-align: right;\n",
       "    }\n",
       "</style>\n",
       "<table border=\"1\" class=\"dataframe\">\n",
       "  <thead>\n",
       "    <tr style=\"text-align: right;\">\n",
       "      <th></th>\n",
       "      <th>Education</th>\n",
       "      <th>Education Yrs</th>\n",
       "      <th>Marital Status</th>\n",
       "      <th>Employer</th>\n",
       "      <th>Occupation</th>\n",
       "      <th>Hours per Week</th>\n",
       "      <th>Country</th>\n",
       "    </tr>\n",
       "  </thead>\n",
       "  <tbody>\n",
       "    <tr>\n",
       "      <th>20980</th>\n",
       "      <td>1</td>\n",
       "      <td>13.0</td>\n",
       "      <td>2</td>\n",
       "      <td>3</td>\n",
       "      <td>7</td>\n",
       "      <td>45.0</td>\n",
       "      <td>5</td>\n",
       "    </tr>\n",
       "    <tr>\n",
       "      <th>20981</th>\n",
       "      <td>0</td>\n",
       "      <td>11.0</td>\n",
       "      <td>3</td>\n",
       "      <td>2</td>\n",
       "      <td>4</td>\n",
       "      <td>40.0</td>\n",
       "      <td>5</td>\n",
       "    </tr>\n",
       "    <tr>\n",
       "      <th>20982</th>\n",
       "      <td>0</td>\n",
       "      <td>12.0</td>\n",
       "      <td>3</td>\n",
       "      <td>2</td>\n",
       "      <td>6</td>\n",
       "      <td>32.5</td>\n",
       "      <td>5</td>\n",
       "    </tr>\n",
       "    <tr>\n",
       "      <th>20983</th>\n",
       "      <td>5</td>\n",
       "      <td>9.0</td>\n",
       "      <td>2</td>\n",
       "      <td>3</td>\n",
       "      <td>1</td>\n",
       "      <td>40.0</td>\n",
       "      <td>5</td>\n",
       "    </tr>\n",
       "    <tr>\n",
       "      <th>20984</th>\n",
       "      <td>1</td>\n",
       "      <td>13.0</td>\n",
       "      <td>2</td>\n",
       "      <td>3</td>\n",
       "      <td>7</td>\n",
       "      <td>40.0</td>\n",
       "      <td>5</td>\n",
       "    </tr>\n",
       "  </tbody>\n",
       "</table>\n",
       "</div>"
      ],
      "text/plain": [
       "       Education  Education Yrs  Marital Status  Employer  Occupation  \\\n",
       "20980          1           13.0               2         3           7   \n",
       "20981          0           11.0               3         2           4   \n",
       "20982          0           12.0               3         2           6   \n",
       "20983          5            9.0               2         3           1   \n",
       "20984          1           13.0               2         3           7   \n",
       "\n",
       "       Hours per Week  Country  \n",
       "20980            45.0        5  \n",
       "20981            40.0        5  \n",
       "20982            32.5        5  \n",
       "20983            40.0        5  \n",
       "20984            40.0        5  "
      ]
     },
     "execution_count": 213,
     "metadata": {},
     "output_type": "execute_result"
    }
   ],
   "source": [
    "x_test =test.drop(columns=['Capital Gain','Capital Loss'])\n",
    "x_test.head()"
   ]
  },
  {
   "cell_type": "code",
   "execution_count": 214,
   "id": "12e89672",
   "metadata": {},
   "outputs": [
    {
     "data": {
      "text/plain": [
       "RandomForestRegressor()"
      ]
     },
     "execution_count": 214,
     "metadata": {},
     "output_type": "execute_result"
    }
   ],
   "source": [
    "from sklearn.ensemble import RandomForestRegressor\n",
    "random_forest_reg = RandomForestRegressor()\n",
    "random_forest_reg.fit(X, y)"
   ]
  },
  {
   "cell_type": "code",
   "execution_count": 215,
   "id": "672fe1c9",
   "metadata": {},
   "outputs": [
    {
     "name": "stderr",
     "output_type": "stream",
     "text": [
      "C:\\Users\\hp\\anaconda3\\lib\\site-packages\\sklearn\\base.py:443: UserWarning: X has feature names, but RandomForestRegressor was fitted without feature names\n",
      "  warnings.warn(\n"
     ]
    },
    {
     "data": {
      "text/plain": [
       "array([121948.025     , 128463.1025    , 128463.1025    , ...,\n",
       "       165389.8277979 , 221086.56303804, 165389.8277979 ])"
      ]
     },
     "execution_count": 215,
     "metadata": {},
     "output_type": "execute_result"
    }
   ],
   "source": [
    "pred = random_forest_reg.predict(x_test)\n",
    "pred"
   ]
  },
  {
   "cell_type": "code",
   "execution_count": 216,
   "id": "b6ee86f6",
   "metadata": {},
   "outputs": [
    {
     "data": {
      "text/html": [
       "<div>\n",
       "<style scoped>\n",
       "    .dataframe tbody tr th:only-of-type {\n",
       "        vertical-align: middle;\n",
       "    }\n",
       "\n",
       "    .dataframe tbody tr th {\n",
       "        vertical-align: top;\n",
       "    }\n",
       "\n",
       "    .dataframe thead th {\n",
       "        text-align: right;\n",
       "    }\n",
       "</style>\n",
       "<table border=\"1\" class=\"dataframe\">\n",
       "  <thead>\n",
       "    <tr style=\"text-align: right;\">\n",
       "      <th></th>\n",
       "      <th>Education</th>\n",
       "      <th>Education Yrs</th>\n",
       "      <th>Marital Status</th>\n",
       "      <th>Employer</th>\n",
       "      <th>Occupation</th>\n",
       "      <th>Hours per Week</th>\n",
       "      <th>Country</th>\n",
       "      <th>Salary</th>\n",
       "    </tr>\n",
       "  </thead>\n",
       "  <tbody>\n",
       "    <tr>\n",
       "      <th>20980</th>\n",
       "      <td>1</td>\n",
       "      <td>13.0</td>\n",
       "      <td>2</td>\n",
       "      <td>3</td>\n",
       "      <td>7</td>\n",
       "      <td>45.0</td>\n",
       "      <td>5</td>\n",
       "      <td>121948.025000</td>\n",
       "    </tr>\n",
       "    <tr>\n",
       "      <th>20981</th>\n",
       "      <td>0</td>\n",
       "      <td>11.0</td>\n",
       "      <td>3</td>\n",
       "      <td>2</td>\n",
       "      <td>4</td>\n",
       "      <td>40.0</td>\n",
       "      <td>5</td>\n",
       "      <td>128463.102500</td>\n",
       "    </tr>\n",
       "    <tr>\n",
       "      <th>20982</th>\n",
       "      <td>0</td>\n",
       "      <td>12.0</td>\n",
       "      <td>3</td>\n",
       "      <td>2</td>\n",
       "      <td>6</td>\n",
       "      <td>32.5</td>\n",
       "      <td>5</td>\n",
       "      <td>128463.102500</td>\n",
       "    </tr>\n",
       "    <tr>\n",
       "      <th>20983</th>\n",
       "      <td>5</td>\n",
       "      <td>9.0</td>\n",
       "      <td>2</td>\n",
       "      <td>3</td>\n",
       "      <td>1</td>\n",
       "      <td>40.0</td>\n",
       "      <td>5</td>\n",
       "      <td>165389.827798</td>\n",
       "    </tr>\n",
       "    <tr>\n",
       "      <th>20984</th>\n",
       "      <td>1</td>\n",
       "      <td>13.0</td>\n",
       "      <td>2</td>\n",
       "      <td>3</td>\n",
       "      <td>7</td>\n",
       "      <td>40.0</td>\n",
       "      <td>5</td>\n",
       "      <td>121948.025000</td>\n",
       "    </tr>\n",
       "  </tbody>\n",
       "</table>\n",
       "</div>"
      ],
      "text/plain": [
       "       Education  Education Yrs  Marital Status  Employer  Occupation  \\\n",
       "20980          1           13.0               2         3           7   \n",
       "20981          0           11.0               3         2           4   \n",
       "20982          0           12.0               3         2           6   \n",
       "20983          5            9.0               2         3           1   \n",
       "20984          1           13.0               2         3           7   \n",
       "\n",
       "       Hours per Week  Country         Salary  \n",
       "20980            45.0        5  121948.025000  \n",
       "20981            40.0        5  128463.102500  \n",
       "20982            32.5        5  128463.102500  \n",
       "20983            40.0        5  165389.827798  \n",
       "20984            40.0        5  121948.025000  "
      ]
     },
     "execution_count": 216,
     "metadata": {},
     "output_type": "execute_result"
    }
   ],
   "source": [
    "submission =  pd.DataFrame()\n",
    "submission['Education'] = test['Education']\n",
    "submission['Education Yrs'] = test['Education Yrs']\n",
    "submission['Marital Status'] = test['Marital Status']\n",
    "submission['Employer'] = test['Employer']\n",
    "submission['Occupation'] = test['Occupation']\n",
    "submission['Hours per Week'] = test['Hours per Week']\n",
    "submission['Country'] = test['Country']\n",
    "\n",
    "\n",
    "submission['Salary'] = pred\n",
    "submission.head()"
   ]
  },
  {
   "cell_type": "code",
   "execution_count": 218,
   "id": "69367207",
   "metadata": {},
   "outputs": [],
   "source": [
    "submission.to_csv('Hold_out_result.csv',index=False)"
   ]
  },
  {
   "cell_type": "code",
   "execution_count": null,
   "id": "e2d297df",
   "metadata": {},
   "outputs": [],
   "source": []
  }
 ],
 "metadata": {
  "kernelspec": {
   "display_name": "Python 3 (ipykernel)",
   "language": "python",
   "name": "python3"
  },
  "language_info": {
   "codemirror_mode": {
    "name": "ipython",
    "version": 3
   },
   "file_extension": ".py",
   "mimetype": "text/x-python",
   "name": "python",
   "nbconvert_exporter": "python",
   "pygments_lexer": "ipython3",
   "version": "3.9.12"
  }
 },
 "nbformat": 4,
 "nbformat_minor": 5
}
